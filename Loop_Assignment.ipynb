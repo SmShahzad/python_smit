{
 "cells": [
  {
   "cell_type": "markdown",
   "id": "de26fbbe",
   "metadata": {},
   "source": [
    "1. Write a Python program to print the numbers from 1 to 10 using a for loop"
   ]
  },
  {
   "cell_type": "code",
   "execution_count": null,
   "id": "506c75c9",
   "metadata": {},
   "outputs": [],
   "source": [
    "# for i in range(10):\n",
    "#     print(i + 1)\n",
    "\n",
    "for i in range(1,11):\n",
    "    print(i)\n"
   ]
  },
  {
   "cell_type": "markdown",
   "id": "03d7504c",
   "metadata": {},
   "source": [
    "2. Write a Python program to print the numbers from 20 to 1 using a while loop."
   ]
  },
  {
   "cell_type": "code",
   "execution_count": null,
   "id": "6777d33a",
   "metadata": {},
   "outputs": [],
   "source": [
    "i = 20\n",
    "while(i > 0):\n",
    "    print(i)\n",
    "    i -= 1\n"
   ]
  },
  {
   "cell_type": "markdown",
   "id": "8f1726ec",
   "metadata": {},
   "source": [
    "3. Write a program to print even numbers from 1 to 10. "
   ]
  },
  {
   "cell_type": "code",
   "execution_count": null,
   "id": "91770013",
   "metadata": {},
   "outputs": [],
   "source": [
    "for i in range(1, 11):\n",
    "    if i % 2 == 0:\n",
    "        print(\"Even number is {} \".format(i))"
   ]
  },
  {
   "cell_type": "markdown",
   "id": "be470820",
   "metadata": {},
   "source": [
    "4. Write a program that prompts the user to enter a number n and prints all the \n",
    "numbers from 1 to n. "
   ]
  },
  {
   "cell_type": "code",
   "execution_count": null,
   "id": "9d71575a",
   "metadata": {},
   "outputs": [],
   "source": [
    "user_number = int(input(\"Enter a number : \"))\n",
    "print(\"User Number is \", user_number)\n",
    "\n",
    "for i in range(1, user_number + 1):\n",
    "    print(i)"
   ]
  },
  {
   "cell_type": "markdown",
   "id": "ed6c1668",
   "metadata": {},
   "source": [
    "5. Write a program that prompts the user to enter a number n, and then prints all the \n",
    "odd numbers between 1 and n. "
   ]
  },
  {
   "cell_type": "code",
   "execution_count": null,
   "id": "3d99b413",
   "metadata": {},
   "outputs": [],
   "source": [
    "user_number = int(input(\"Enter a number : \"))\n",
    "print(\"User Number is {} \\n\".format(user_number))\n",
    "\n",
    "for i in range(1, user_number + 1):\n",
    "    if i%2 != 0:\n",
    "        print(\"Odd Number is\", i)"
   ]
  },
  {
   "cell_type": "markdown",
   "id": "f5aa952e",
   "metadata": {},
   "source": [
    "6. Write a program that prints 'Happy Birthday!' five times on screen."
   ]
  },
  {
   "cell_type": "code",
   "execution_count": null,
   "id": "9cd41cf3",
   "metadata": {},
   "outputs": [],
   "source": [
    "for i in range(5):\n",
    "    print(i+1 ,\"'Happy Birthday!'\")"
   ]
  },
  {
   "cell_type": "markdown",
   "id": "95a20983",
   "metadata": {},
   "source": [
    " 7. Write a program that takes a number n as input from the user and generates the first \n",
    "n terms of the series formed by squaring the natural numbers. "
   ]
  },
  {
   "cell_type": "code",
   "execution_count": null,
   "id": "deb58119",
   "metadata": {},
   "outputs": [],
   "source": [
    "user_number = int(input(\"Enter a number : \"))\n",
    "print(f\"User Number is {user_number} \\n\")\n",
    "\n",
    "series = []\n",
    "for i in range(1, user_number + 1):\n",
    "    print(f\"Natural number is {i} Squre is {i*i}\" )\n",
    "    series.append(i*i)\n",
    "\n",
    "for i in series:\n",
    "    print(i, end =\" \")    \n",
    "   "
   ]
  },
  {
   "cell_type": "markdown",
   "id": "f156ec8f",
   "metadata": {},
   "source": [
    "8. Write a program that prompts the user to input a number and prints its multiplication \n",
    "table"
   ]
  },
  {
   "cell_type": "code",
   "execution_count": null,
   "id": "55b11074",
   "metadata": {},
   "outputs": [],
   "source": [
    "user_number = int(input(\"Enter a number : \"))\n",
    "print(f\"User Number is {user_number} \\n\")\n",
    "\n",
    "for i in range(1, 11):\n",
    "    print(f\"{user_number} * {i} = {user_number*i}\")"
   ]
  },
  {
   "cell_type": "markdown",
   "id": "ede76527",
   "metadata": {},
   "source": [
    "9. Write a Python program to print the first 8 terms of an arithmetic progression starting \n",
    "with 3 and having a common difference of 4. \n",
    "The program should output the following sequence: \n",
    "3 7 11 15 19 23 27 31 "
   ]
  },
  {
   "cell_type": "code",
   "execution_count": null,
   "id": "2f05b1a2",
   "metadata": {},
   "outputs": [],
   "source": [
    "for i in range(3, 32, 4):\n",
    "    print(i, end = \" \")"
   ]
  },
  {
   "cell_type": "markdown",
   "id": "03cc106f",
   "metadata": {},
   "source": [
    "10. Write a Python program to print the first 6 terms of a geometric sequence starting \n",
    "with 2 and having a common ratio of 3. \n",
    "The program should output the following sequence: \n",
    "2 6 18 54 162 486 \n"
   ]
  },
  {
   "cell_type": "code",
   "execution_count": null,
   "id": "944e029f",
   "metadata": {},
   "outputs": [],
   "source": [
    "start = 2\n",
    "ratio = 3\n",
    "terms = 6\n",
    "\n",
    "for i in range(terms):\n",
    "    print(start, end =\" \")\n",
    "    start *= ratio\n",
    "    \n"
   ]
  },
  {
   "cell_type": "markdown",
   "id": "371da3a1",
   "metadata": {},
   "source": [
    "11. Write a program that asks the user for a positive integer value. The program should \n",
    "calculate the sum of all the integers from 1 up to the number entered. For example, if \n",
    "the user enters 20, the loop will find the sum of 1, 2, 3, 4, ... 20. \n"
   ]
  },
  {
   "cell_type": "code",
   "execution_count": null,
   "id": "40d43970",
   "metadata": {},
   "outputs": [],
   "source": [
    "user_number = int(input(\"Enter a number : \"))\n",
    "\n",
    "num_list = []\n",
    "sum_num = 0\n",
    "\n",
    "if user_number > 0:\n",
    "    print(f\"User Number is {user_number} \\n\")\n",
    "    for i in range(1, user_number + 1):\n",
    "        sum_num += i \n",
    "        num_list.append(i)\n",
    "    print(f\"Number of sum list: {num_list}\")    \n",
    "    print(f\"Sum number of {sum_num}\")\n",
    "\n"
   ]
  },
  {
   "cell_type": "code",
   "execution_count": null,
   "id": "644a2422",
   "metadata": {},
   "outputs": [],
   "source": [
    "def main():\n",
    "    try:\n",
    "        # Ask the user for a positive integer\n",
    "        num = int(input(\"Enter a positive integer: \"))\n",
    "\n",
    "        # Ensure the number is positive\n",
    "        if num <= 0:\n",
    "            print(\"Please enter a positive integer.\")\n",
    "            return\n",
    "\n",
    "        # Calculate the sum using a loop\n",
    "        total = 0\n",
    "        for i in range(1, num + 1):\n",
    "            total += i\n",
    "\n",
    "        # Display the result\n",
    "        print(f\"The sum of integers from 1 to {num} is {total}.\")\n",
    "\n",
    "    except ValueError:\n",
    "        print(\"Invalid input. Please enter a positive integer.\")\n",
    "\n",
    "# Run the program\n",
    "if __name__ == \"__main__\":\n",
    "    main()"
   ]
  },
  {
   "cell_type": "markdown",
   "id": "b03cd287",
   "metadata": {},
   "source": [
    "12. write a program that takes a positive integer N as input and calculates the sum of \n",
    "the reciprocals of all numbers from 1 up to N. The program should display the final sum. "
   ]
  },
  {
   "cell_type": "code",
   "execution_count": null,
   "id": "a2fbc560",
   "metadata": {},
   "outputs": [],
   "source": [
    "try:\n",
    "    user_number = int(input(\"Enter a number : \"))\n",
    "    \n",
    "    num_list = []\n",
    "    total = 0.0\n",
    "\n",
    "    if user_number <=0:\n",
    "        print(\"Please enter a positive integer number\")\n",
    "    \n",
    "    else:    \n",
    "        print(f\"User Number is {user_number} \\n\")\n",
    "        for i in range(1, user_number + 1):\n",
    "            total += 1 / i \n",
    "            num_list.append(i)\n",
    "        print(f\"Number of sum list: {num_list}\")    \n",
    "        print(f\"Sum number of {total:.2f}\")\n",
    "\n",
    "except ValueError as e:\n",
    "    print(e, \"Value error : Please enter a positive integer number\")        "
   ]
  },
  {
   "cell_type": "code",
   "execution_count": null,
   "id": "03c38924",
   "metadata": {},
   "outputs": [],
   "source": [
    "def main():\n",
    "    try:\n",
    "        # Ask the user for a positive integer\n",
    "        num = int(input(\"Enter a positive integer: \"))\n",
    "\n",
    "        # Ensure the number is positive\n",
    "        if num <= 0:\n",
    "            print(\"Please enter a positive integer.\")\n",
    "            return\n",
    "\n",
    "        # Calculate the sum of reciprocals\n",
    "        total = 0.0\n",
    "        for i in range(1, num + 1):\n",
    "            total += 1 / i\n",
    "\n",
    "        # Display the result\n",
    "        print(f\"The sum of reciprocals from 1 to {num} is {total:.6f}.\")\n",
    "\n",
    "    except ValueError:\n",
    "        print(\"Invalid input. Please enter a positive integer.\")\n",
    "\n",
    "# Run the program\n",
    "if __name__ == \"__main__\":\n",
    "    main()"
   ]
  },
  {
   "cell_type": "markdown",
   "id": "9578fa1e",
   "metadata": {},
   "source": [
    "13. Write a program that prompts the user to enter a number and repeats this process 5 times. \n",
    "\n",
    "The program should accumulate the numbers entered and then display the final \n",
    "running total. \n"
   ]
  },
  {
   "cell_type": "code",
   "execution_count": null,
   "id": "de5acd21",
   "metadata": {},
   "outputs": [],
   "source": [
    "try:\n",
    "    total_sum = 0\n",
    "    for i in range(5):\n",
    "        user_number = int(input(\"Enter a number: \"))\n",
    "        total_sum += user_number\n",
    "        print(f\"Enter a number: {user_number}\")\n",
    "    print(\"The final running total is: {}\".format(total_sum))    \n",
    "except Exception as e:\n",
    "    print(\"Enter a positive number \", e)        "
   ]
  },
  {
   "cell_type": "markdown",
   "id": "49cf0263",
   "metadata": {},
   "source": [
    "14. Write a program that prompts the user to enter a positive integer and calculates its \n",
    "factorial. \n",
    "\n",
    "The factorial of a positive integer 'n' is denoted as 'n!' and is calculated by \n",
    "multiplying all the integers from 1 to 'n' together. \n",
    "For example, the factorial of 5 (denoted as 5!) is calculated as 1 x 2 x 3 x 4 x 5. \n",
    "\n",
    "The program should display the factorial value if the input is a positive number, or display a message stating that the factorial does not exist for negative numbers. \n",
    "\n",
    "Additionally, for an input of zero, the program should output that the factorial of 0 is 1. "
   ]
  },
  {
   "cell_type": "code",
   "execution_count": null,
   "id": "8ee77cd4",
   "metadata": {},
   "outputs": [],
   "source": [
    "try:\n",
    "    user_number = int(input(\"Enter a number: \"))\n",
    "    factorial = 1\n",
    "    \n",
    "    for i in range(1,user_number +1):\n",
    "        factorial *= i\n",
    "    if factorial < 0:\n",
    "        print(f\" The factorial does not exist for negative numbers {factorial}.\")\n",
    "            \n",
    "    elif factorial == 0:\n",
    "        print(f\"The factorial of is {factorial + 1}.\")\n",
    "            \n",
    "    else:\n",
    "        print(f\"Factorial value is {factorial}\")\n",
    "    \n",
    "except Exception as e:\n",
    "    print(\"Enter a positive number \", e) \n",
    "\n"
   ]
  },
  {
   "cell_type": "code",
   "execution_count": null,
   "id": "400ea995",
   "metadata": {},
   "outputs": [],
   "source": [
    "def calculate_factorial():\n",
    "    # Prompt user for input\n",
    "    try:\n",
    "        num = int(input(\"Enter a positive integer: \"))\n",
    "        \n",
    "        if num < 0:\n",
    "            print(\"Factorial does not exist for negative numbers.\")\n",
    "        elif num == 0:\n",
    "            print(\"The factorial of 0 is 1.\")\n",
    "        else:\n",
    "            factorial = 1\n",
    "            for i in range(1, num + 1):\n",
    "                factorial *= i\n",
    "            print(f\"The factorial of {num} is {factorial}.\")\n",
    "    except ValueError:\n",
    "        print(\"Invalid input. Please enter a valid integer.\")\n",
    "\n",
    "# Run the program\n",
    "calculate_factorial()\n"
   ]
  },
  {
   "cell_type": "markdown",
   "id": "92d76ab8",
   "metadata": {},
   "source": [
    "15. Write a Python program that prompts the user to enter a base number and an \n",
    "exponent, and then calculates the power of the base to the exponent. \n",
    "\n",
    "The program should not use the exponentiation operator (**) or the math.pow() function. \n",
    "\n",
    "The program should handle both positive and negative exponents. \n"
   ]
  },
  {
   "cell_type": "code",
   "execution_count": null,
   "id": "64a8d940",
   "metadata": {},
   "outputs": [],
   "source": [
    "try:\n",
    "    base_num = int(input(\"Enter a base number: \"))\n",
    "    exponenet_num = int(input(\"Enter a Exponenet number: \"))\n",
    "    \n",
    "    result = 1\n",
    "    for i in range(exponenet_num):\n",
    "        result  *= base_num\n",
    "    print(result)    \n",
    "\n",
    "except Exception as e:\n",
    "    print(e)    "
   ]
  },
  {
   "cell_type": "code",
   "execution_count": null,
   "id": "84ff11a6",
   "metadata": {},
   "outputs": [],
   "source": [
    "def calculate_power(base, exponent):\n",
    "    if exponent == 0:\n",
    "        return 1\n",
    "\n",
    "    result = 1\n",
    "    if exponent > 0:\n",
    "        for _ in range(exponent):\n",
    "            result *= base\n",
    "    else:\n",
    "        for i in range(-exponent):\n",
    "            print(\"i: \",i)\n",
    "            result *= base\n",
    "            print(\"for loop result: \", result)\n",
    "        result = 1 / result\n",
    "\n",
    "    return result\n",
    "\n",
    "def main():\n",
    "    try:\n",
    "        base = float(input(\"Enter the base number: \"))\n",
    "        exponent = int(input(\"Enter the exponent: \"))\n",
    "\n",
    "        result = calculate_power(base, exponent)\n",
    "        print(f\"{base} raised to the power of {exponent} is {result}\")\n",
    "    except ValueError:\n",
    "        print(\"Please enter a valid number for the base and an integer for the exponent.\")\n",
    "\n",
    "if __name__ == \"__main__\":\n",
    "    main()"
   ]
  },
  {
   "cell_type": "code",
   "execution_count": null,
   "id": "719d7326",
   "metadata": {},
   "outputs": [],
   "source": []
  }
 ],
 "metadata": {
  "kernelspec": {
   "display_name": "Python 3 (ipykernel)",
   "language": "python",
   "name": "python3"
  },
  "language_info": {
   "codemirror_mode": {
    "name": "ipython",
    "version": 3
   },
   "file_extension": ".py",
   "mimetype": "text/x-python",
   "name": "python",
   "nbconvert_exporter": "python",
   "pygments_lexer": "ipython3",
   "version": "3.9.18"
  }
 },
 "nbformat": 4,
 "nbformat_minor": 5
}
