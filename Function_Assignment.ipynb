{
 "cells": [
  {
   "cell_type": "markdown",
   "id": "0abc9b73",
   "metadata": {},
   "source": [
    "1. Write a Python function to find the maximum of three numbers."
   ]
  },
  {
   "cell_type": "code",
   "execution_count": null,
   "id": "0f1ed525",
   "metadata": {},
   "outputs": [],
   "source": [
    "def max_number(num_1, num_2, num_3):\n",
    "    result_num = 0\n",
    "    num_lst = [num_1, num_2, num_3]\n",
    "    for i in num_lst:\n",
    "        if i > result_num:\n",
    "            result_num = i\n",
    "    return result_num\n",
    "        \n",
    "    \n",
    "max_number(23, 3000, 45)"
   ]
  },
  {
   "cell_type": "markdown",
   "id": "e30ea6c1",
   "metadata": {},
   "source": [
    "2. Write a Python function to sum all the numbers in a list. \n",
    "Sample List : (8, 2, 3, 0, 7) \n",
    "Expected Output : 20 \n"
   ]
  },
  {
   "cell_type": "code",
   "execution_count": null,
   "id": "08420404",
   "metadata": {},
   "outputs": [],
   "source": [
    "num_list = [8, 2, 3, 0, 7]\n",
    "\n",
    "def sum_number():\n",
    "    sum_num = 0\n",
    "    \n",
    "    for i in num_list:\n",
    "        sum_num += i\n",
    "    \n",
    "    return sum_num\n",
    "\n",
    "sum_number()   "
   ]
  },
  {
   "cell_type": "markdown",
   "id": "8e09888e",
   "metadata": {},
   "source": [
    "3. Write a Python function to multiply all the numbers in a list. \n",
    "Sample List : (8, 2, 3, -1, 7) \n",
    "Expected Output : -336 \n"
   ]
  },
  {
   "cell_type": "code",
   "execution_count": null,
   "id": "7edf7f19",
   "metadata": {},
   "outputs": [],
   "source": [
    "num_list = [8, 2, 3, -1, 7]\n",
    "\n",
    "def multifly_number():\n",
    "    multi_num = 1\n",
    "    \n",
    "    for i in num_list:\n",
    "        multi_num *= i\n",
    "    \n",
    "    return multi_num\n",
    "\n",
    "multifly_number()   "
   ]
  },
  {
   "cell_type": "markdown",
   "id": "a75a9482",
   "metadata": {},
   "source": [
    "4. Write a Python program to reverse a string. \n",
    "Sample String : \"1234abcd\" \n",
    "Expected Output : \"dcba4321\" \n"
   ]
  },
  {
   "cell_type": "code",
   "execution_count": null,
   "id": "8c4fbf38",
   "metadata": {},
   "outputs": [],
   "source": [
    "def revers_string():\n",
    "    text = \"1234abcd\"\n",
    "    text = text[::-1]\n",
    "    return text\n",
    "\n",
    "revers_string()"
   ]
  },
  {
   "cell_type": "markdown",
   "id": "383bc8c5",
   "metadata": {},
   "source": [
    "5. Write a Python function to calculate the factorial of a number (a non-negative integer). \n",
    "\n",
    "   The function accepts the number as an argument. "
   ]
  },
  {
   "cell_type": "code",
   "execution_count": null,
   "id": "3812c2cb",
   "metadata": {},
   "outputs": [],
   "source": [
    "def factorial(n):\n",
    "    if n == 0 or n == 1:\n",
    "        return 1\n",
    "    return n * factorial(n -1)\n",
    "\n",
    "factorial(8)"
   ]
  },
  {
   "cell_type": "markdown",
   "id": "b548096b",
   "metadata": {},
   "source": [
    "6. Write a Python function to check whether a number falls within a given range. "
   ]
  },
  {
   "cell_type": "code",
   "execution_count": null,
   "id": "287c65e4",
   "metadata": {},
   "outputs": [],
   "source": [
    "check_number = int(input(\"Enter a number: rang (5 to 10)\"))\n",
    "num_list = []\n",
    "\n",
    "def check_num(num):\n",
    "    for i in range(5, 11):\n",
    "        num_list.append(i)\n",
    "        \n",
    "    if num in num_list:\n",
    "        print(f\"The number ({check_number}) is falls within the range\")\n",
    "\n",
    "    else:\n",
    "        print(f\"The number ({check_number}) is outside the range\")\n",
    "\n",
    "check_num(check_number)\n",
    "        "
   ]
  },
  {
   "cell_type": "markdown",
   "id": "2083df40",
   "metadata": {},
   "source": [
    "7. Write a Python function that accepts a string and counts the number of upper and lower case letters. \n",
    "Sample String : 'The quick Brow Fox' \n",
    "##### Expected Output : \n",
    "* No. of Upper case characters : 3 \n",
    "* No. of Lower case Characters : 12 "
   ]
  },
  {
   "cell_type": "code",
   "execution_count": null,
   "id": "1d09e6cc",
   "metadata": {},
   "outputs": [],
   "source": [
    "text1 = \"The quick Brow Fox\"\n",
    "\n",
    "# def character_count(text):\n",
    "#     upper_char_count = 0\n",
    "#     lower_char_count = 0\n",
    "#     for i in text:\n",
    "#         if i.islower():\n",
    "#             lower_char_count += 1 \n",
    "        \n",
    "#         elif i.isupper():\n",
    "#             upper_char_count += 1 \n",
    "#     print(f\"No. of Lower case Characters : {lower_char_count}\")    \n",
    "#     print(f\"No. of Upper case characters : {upper_char_count}\")\n",
    "\n",
    "# character_count(text1)\n",
    "\n",
    "\n",
    "def character_count(text):\n",
    "    upper_char_count = 0\n",
    "    lower_char_count = 0\n",
    "    for i in text:\n",
    "        if i.islower():\n",
    "            lower_char_count += 1 \n",
    "        \n",
    "        elif i.isupper():\n",
    "            upper_char_count += 1 \n",
    "    print(f\"No. of Lower case Characters : {lower_char_count}\")    \n",
    "    print(f\"No. of Upper case characters : {upper_char_count}\")\n",
    "\n",
    "character_count(text1)\n"
   ]
  },
  {
   "cell_type": "code",
   "execution_count": null,
   "id": "f5659594",
   "metadata": {},
   "outputs": [],
   "source": [
    "def count_case_letters(input_string):\n",
    "    \"\"\"\n",
    "    Counts the number of uppercase and lowercase letters in a string.\n",
    "\n",
    "    Parameters:\n",
    "        input_string (str): The string to analyze.\n",
    "\n",
    "    Returns:\n",
    "        dict: A dictionary with counts of uppercase and lowercase letters.\n",
    "    \"\"\"\n",
    "    upper_count = sum(1 for char in input_string if char.isupper())\n",
    "    lower_count = sum(1 for char in input_string if char.islower())\n",
    "\n",
    "    return {\"Uppercase\": upper_count, \"Lowercase\": lower_count}\n",
    "\n",
    "# Sample usage\n",
    "sample_string = 'The quick Brow Fox'\n",
    "result = count_case_letters(sample_string)\n",
    "\n",
    "print(\"No. of Upper case characters:\", result[\"Uppercase\"])\n",
    "print(\"No. of Lower case Characters:\", result[\"Lowercase\"])\n"
   ]
  },
  {
   "cell_type": "markdown",
   "id": "b54aacb0",
   "metadata": {},
   "source": [
    "8. Write a Python function that takes a list and returns a new list with distinct \n",
    "elements from the first list. \n",
    "* Sample List : [1,2,3,3,3,3,4,5] \n",
    "* Unique List : [1, 2, 3, 4, 5] "
   ]
  },
  {
   "cell_type": "code",
   "execution_count": null,
   "id": "265673ee",
   "metadata": {},
   "outputs": [],
   "source": [
    "def new_unique_lst(num_lst):\n",
    "    unique_lst = []\n",
    "    unique_set = {0}\n",
    "    for i in num_lst:\n",
    "        unique_set.add(i)\n",
    "    unique_set.pop()        \n",
    "    unique_lst.extend(list(unique_set))    \n",
    "    return {\"unique_list\" : unique_lst , \"sample_list\": num_lst}\n",
    "sample_lst = [1,2,3,3,3,3,4,5]\n",
    "result = new_unique_lst(sample_lst)\n",
    "\n",
    "print(\"Sample List: \", result[\"sample_list\"])        \n",
    "print(\"Unique List: \", result[\"unique_list\"])        \n",
    "\n"
   ]
  },
  {
   "cell_type": "code",
   "execution_count": null,
   "id": "bcfcf88d",
   "metadata": {},
   "outputs": [],
   "source": [
    "def get_unique_elements(input_list):\n",
    "    \"\"\"\n",
    "    Takes a list and returns a new list with distinct elements from the first list.\n",
    "\n",
    "    :param input_list: List of elements (can contain duplicates).\n",
    "    :return: A list containing only unique elements.\n",
    "    \"\"\"\n",
    "    return list(set(input_list))\n",
    "\n",
    "# Example usage\n",
    "sample_list = [1, 2, 3, 3, 3, 3, 4, 5]\n",
    "unique_list = get_unique_elements(sample_list)\n",
    "print(\"Unique List:\", unique_list)\n"
   ]
  },
  {
   "cell_type": "markdown",
   "id": "d6d2f357",
   "metadata": {},
   "source": [
    "9. Write a Python function that takes a number as a parameter and checks whether the number is prime or not. \n",
    "\n",
    "   Note : A prime number (or a prime) is a natural number greater than 1 and that \n",
    "   has no positive divisors other than 1 and itself. "
   ]
  },
  {
   "cell_type": "code",
   "execution_count": null,
   "id": "39d5e63a",
   "metadata": {},
   "outputs": [],
   "source": []
  },
  {
   "cell_type": "code",
   "execution_count": null,
   "id": "be075949",
   "metadata": {},
   "outputs": [],
   "source": [
    "import math\n",
    "\n",
    "def is_prime(number):\n",
    "    # Prime numbers must be greater than 1\n",
    "    if number <= 1:\n",
    "        return False\n",
    "    \n",
    "    # Check divisibility up to the square root of the number\n",
    "    for i in range(2, int(math.sqrt(number)) + 1):\n",
    "        if number % i == 0:\n",
    "            return False  # Not prime if divisible by any number other than 1 and itself\n",
    "    \n",
    "    return True  # Prime if no divisors found\n",
    "\n",
    "# Examples\n",
    "print(is_prime(7))  # Output: True\n",
    "print(is_prime(10)) # Output: False\n"
   ]
  },
  {
   "cell_type": "code",
   "execution_count": null,
   "id": "dd32e8db",
   "metadata": {},
   "outputs": [],
   "source": [
    "def is_prime(number):\n",
    "    # Prime numbers must be greater than 1\n",
    "    if number <= 1:\n",
    "        return False\n",
    "    \n",
    "    # Check divisibility up to half the number\n",
    "    \n",
    "    for i in range(2, (number // 2) + 1):\n",
    "        if number % i == 0:\n",
    "            print(\"if\",i)\n",
    "            return False  # Not prime if divisible by any number other than 1 and itself\n",
    "    \n",
    "        print(\"if se bahir\",i)\n",
    "    return True  # Prime if no divisors found\n",
    "\n",
    "# Examples\n",
    "print(is_prime(11))  # Output: True\n",
    "#print(is_prime(10)) # Output: False\n"
   ]
  },
  {
   "cell_type": "markdown",
   "id": "3de6e3bd",
   "metadata": {},
   "source": [
    "10. Write a Python program to print the even numbers from a given list. \n",
    "* Sample List : [1, 2, 3, 4, 5, 6, 7, 8, 9]\n",
    "* Expected Result : [2, 4, 6, 8] \n"
   ]
  },
  {
   "cell_type": "code",
   "execution_count": null,
   "id": "f9439b5a",
   "metadata": {},
   "outputs": [],
   "source": [
    "def even_num(num):\n",
    "    result = []\n",
    "    for i in num:\n",
    "        if i % 2 == 0:\n",
    "            result.append(i)\n",
    "    return {\"sample_list_1\" : num, \"expected_result\": result }\n",
    "\n",
    "sample_list =  [1, 2, 3, 4, 5, 6, 7, 8, 9]\n",
    "result_even = even_num(sample_list)\n",
    "\n",
    "print(f\"Simple List: {result_even['sample_list_1']}\")       \n",
    "print(f\"Expected result: {result_even['expected_result']}\")       "
   ]
  },
  {
   "cell_type": "markdown",
   "id": "3a5bad52",
   "metadata": {},
   "source": [
    "11. Write a Python function to check whether a number is \"Perfect\" or not. According to Wikipedia : \n",
    "    In number theory, a perfect number is a positive integer that is equal to the sum of its proper positive divisors, \n",
    "    that is, the sum of its positive divisors excluding the number itself (also known as its aliquot sum). \n",
    "    Equivalently, a perfect number is a number that is half the sum of all of its positive divisors (including itself). \n",
    "\n",
    "    Example : The first perfect number is 6, because 1, 2, and 3 are its proper positive \n",
    "    \n",
    "    divisors, and 1 + 2 + 3 = 6. Equivalently, the number 6 is equal to half the sum of \n",
    "    all its positive divisors: ( 1 + 2 + 3 + 6 ) / 2 = 6. \n",
    "    \n",
    "    The next perfect number is 28 = 1 + 2 + 4 + 7 + 14. This is followed by the perfect numbers 496 and 8128."
   ]
  },
  {
   "cell_type": "code",
   "execution_count": null,
   "id": "0a365f96",
   "metadata": {},
   "outputs": [],
   "source": [
    "def perpect_number(n):\n",
    "    total = 0\n",
    "    if n <= 0:\n",
    "        return False\n",
    "    for i in range(1, n // 2 + 1):\n",
    "        print(\"Step \", i, \"\\n\")\n",
    "        print(n, i)\n",
    "        if n % i == 0:\n",
    "            total += i\n",
    "        #    print(\"Total\",total)\n",
    "\n",
    "    return total == n    \n",
    "\n",
    "perpect_number(6)"
   ]
  },
  {
   "cell_type": "code",
   "execution_count": null,
   "id": "697ddaf3",
   "metadata": {},
   "outputs": [],
   "source": [
    "def is_perfect_number(n):\n",
    "    # Return False for non-positive numbers\n",
    "    if n <= 0:\n",
    "        return False\n",
    "\n",
    "    # Calculate sum of divisors\n",
    "    total = 0\n",
    "    for i in range(1, n):\n",
    "        if n % i == 0:\n",
    "            total += i\n",
    "\n",
    "    # Check if sum equals the number\n",
    "    return total == n\n",
    "\n",
    "# Test cases\n",
    "print(is_perfect_number(6))    # True\n",
    "print(is_perfect_number(28))   # True\n",
    "print(is_perfect_number(496))  # True\n",
    "print(is_perfect_number(8128)) # True\n",
    "print(is_perfect_number(12))   # False\n",
    "print(is_perfect_number(0))    # False\n",
    "print(is_perfect_number(-6))   # False\n"
   ]
  },
  {
   "cell_type": "code",
   "execution_count": null,
   "id": "07e01596",
   "metadata": {},
   "outputs": [],
   "source": [
    "def is_perfect_number(n: int) -> bool:\n",
    "    \"\"\"\n",
    "    Function to check if a given number is a perfect number.\n",
    "    A perfect number is equal to the sum of its proper divisors.\n",
    "    \n",
    "    Args:\n",
    "    n (int): The number to check.\n",
    "\n",
    "    Returns:\n",
    "    bool: True if the number is perfect, False otherwise.\n",
    "    \"\"\"\n",
    "    # Return False for non-positive numbers\n",
    "    if n <= 0:\n",
    "        return False\n",
    "\n",
    "    # Find proper divisors and calculate their sum\n",
    "    divisors_sum = sum([i for i in range(1, n // 2 + 1) if n % i == 0])\n",
    "\n",
    "    # Check if the sum equals the number itself\n",
    "    return divisors_sum == n\n",
    "\n",
    "\n",
    "# Test cases\n",
    "print(is_perfect_number(6))    # True\n",
    "print(is_perfect_number(28))   # True\n",
    "print(is_perfect_number(496))  # True\n",
    "print(is_perfect_number(8128)) # True\n",
    "print(is_perfect_number(12))   # False\n",
    "print(is_perfect_number(0))    # False\n",
    "print(is_perfect_number(-6))   # False\n"
   ]
  },
  {
   "cell_type": "markdown",
   "id": "1ed5b4bf",
   "metadata": {},
   "source": [
    "12. Write a Python function that checks whether a passed string is a palindrome or not. \n",
    "\n",
    "   Note: A palindrome is a word, phrase, or sequence that reads the same backward \n",
    "as forward, e.g., madam or nurses run. "
   ]
  },
  {
   "cell_type": "code",
   "execution_count": null,
   "id": "8c2bc94a",
   "metadata": {},
   "outputs": [],
   "source": [
    "def palindrome_text(text):\n",
    "    \n",
    "    if text == text[::-1]:\n",
    "        print(f\"Passed string is palindrome ({text})\")\n",
    "    else:\n",
    "        print(f\"Passed string is not palindrome ({text})\")\n",
    "    return text \n",
    "\n",
    "user_input_text = input(\"Enter a string: \")\n",
    "\n",
    "result = palindrome_text(user_input_text)\n",
    "result    \n"
   ]
  },
  {
   "cell_type": "code",
   "execution_count": null,
   "id": "6c1f715b",
   "metadata": {},
   "outputs": [],
   "source": []
  }
 ],
 "metadata": {
  "kernelspec": {
   "display_name": "Python 3 (ipykernel)",
   "language": "python",
   "name": "python3"
  },
  "language_info": {
   "codemirror_mode": {
    "name": "ipython",
    "version": 3
   },
   "file_extension": ".py",
   "mimetype": "text/x-python",
   "name": "python",
   "nbconvert_exporter": "python",
   "pygments_lexer": "ipython3",
   "version": "3.9.18"
  }
 },
 "nbformat": 4,
 "nbformat_minor": 5
}
