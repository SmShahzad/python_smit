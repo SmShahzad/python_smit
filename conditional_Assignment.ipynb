{
 "cells": [
  {
   "cell_type": "markdown",
   "id": "61e48be3",
   "metadata": {},
   "source": [
    "1. Write a program that prompts the user to input a number and display if the number \n",
    "is even or odd. "
   ]
  },
  {
   "cell_type": "code",
   "execution_count": null,
   "id": "a22f898a",
   "metadata": {},
   "outputs": [],
   "source": [
    "try:\n",
    "    user_number = int(input(\"Enter a number even or odd : \"))\n",
    "    if user_number%2 == 0:\n",
    "        print(f\"Number is even {user_number}\")\n",
    "    else:\n",
    "        print(f\"Number is odd  {user_number}\")\n",
    "\n",
    "except ValueError:\n",
    "    print(\"please enter a interger number \" )    \n"
   ]
  },
  {
   "cell_type": "markdown",
   "id": "ce81f71b",
   "metadata": {},
   "source": [
    " 2. Write a Python program that takes an age as input and determines whether a person \n",
    "is eligible to vote. \n",
    "\n",
    "    If the age is 18 or above, print \"You are eligible to vote.\" Otherwise, \n",
    "print \"You are not eligible to vote yet.\"."
   ]
  },
  {
   "cell_type": "code",
   "execution_count": null,
   "id": "d0e266a2",
   "metadata": {},
   "outputs": [],
   "source": [
    "try:\n",
    "    age = int(input(\"Enter the user age : \"))\n",
    "    if age >= 18:\n",
    "        print(f\"You are eligible to vote. age is {age}\")\n",
    "    else:\n",
    "        print(f\"You are not eligible to vote yet. age is {age}\")\n",
    "\n",
    "except ValueError:\n",
    "    print(\"please enter a interger number  \" ) "
   ]
  },
  {
   "cell_type": "markdown",
   "id": "9bd8ab37",
   "metadata": {},
   "source": [
    "3. Write a program that prompts the user to input two integers and outputs the largest."
   ]
  },
  {
   "cell_type": "code",
   "execution_count": null,
   "id": "42a9dff3",
   "metadata": {},
   "outputs": [],
   "source": [
    "user_two_number = input(\"Enter are two number with space (example 12 34) :  \")\n",
    "two_num_lst = user_two_number.split()\n",
    "\n",
    "num_1 = num_2 = 0\n",
    " \n",
    "\n",
    "for i in  range(len(two_num_lst)):\n",
    "    if i == 0:\n",
    "        num_1 = int(two_num_lst[i])\n",
    "    elif i == 1:\n",
    "        num_2 = int(two_num_lst[i])    \n",
    "    \n",
    "if num_1 > num_2:\n",
    "    print(\"{} is largest\".format(num_1))\n",
    "elif num_2 > num_1:    \n",
    "    print(\"{} is largest\".format(num_2))\n",
    "\n"
   ]
  },
  {
   "cell_type": "markdown",
   "id": "4485595e",
   "metadata": {},
   "source": [
    "4. Write a program that prompts the user to enter a number and determines whether it \n",
    "is positive, negative, or zero. \n",
    "   \n",
    "   The program should print \"Positive\" if the number is \n",
    "greater than 0, \"Negative\" if the number is less than 0, and \"Zero\" if the number is 0. \n"
   ]
  },
  {
   "cell_type": "code",
   "execution_count": null,
   "id": "f44affb3",
   "metadata": {},
   "outputs": [],
   "source": [
    "user_number = int(input(\"Enter a number \"))\n",
    "\n",
    "if user_number > 0:\n",
    "    print(\"Positive number: {}\".format(user_number))\n",
    "\n",
    "elif user_number < 0 :\n",
    "    print(\"Negative number: {}\".format(user_number))\n",
    "\n",
    "else:\n",
    "    print(f\"Number is Zero: {user_number}\")"
   ]
  },
  {
   "cell_type": "markdown",
   "id": "b00d11f6",
   "metadata": {},
   "source": [
    "5. Write a program that prompts the user to enter their age and prints the \n",
    "corresponding age group. The program should use the following age groups\n",
    "\n",
    "* 0-12: Child \n",
    "* 13-19: Teenager \n",
    "* 20-59: Adult \n",
    "* 60 and above: Senior Citizen "
   ]
  },
  {
   "cell_type": "code",
   "execution_count": null,
   "id": "aac8b402",
   "metadata": {},
   "outputs": [],
   "source": [
    "age = int(input(\"Enter your age: \"))\n",
    "\n",
    "if age > 0 and age <=12:\n",
    "    print('(Child) age is ', age)\n",
    " \n",
    "elif  13 <= age <= 19:\n",
    "    print(\"(Teenager) age is \", age)\n",
    "\n",
    "elif  20 <= age <= 59:\n",
    "    print(\"(Adult) age is \",age)\n",
    "\n",
    "elif age >= 60:\n",
    "    print(\"(Senior Citizen) age is \",age)\n",
    "\n",
    "else:\n",
    "    print(f'Sorry! please enter correct age {age}')"
   ]
  },
  {
   "cell_type": "markdown",
   "id": "a75ed70d",
   "metadata": {},
   "source": [
    "6. Write a program that prompts the user to input a number from 1 to 7. The program \n",
    "should display the corresponding day for the given number. \n",
    "   \n",
    "   For example, if the user types 1, the output should be Sunday. If the user types 7, the output should be \n",
    "Saturday. \n",
    "   \n",
    "   If the number is not between 1 to 7 user should get error message as shown \n",
    "in sample output."
   ]
  },
  {
   "cell_type": "code",
   "execution_count": null,
   "id": "f72e0bc9",
   "metadata": {},
   "outputs": [],
   "source": [
    "week_days = {1 : \"Sunday\", 2 : \"Monday\", 3 : \"Tuesday\", 4 : \"Wednesday\", 5 : \"Thursday\", 6 : \"Friday\", 7 : \"Saturday\"}\n",
    "\n",
    "try:\n",
    "    user_day = int(input(\"Enter your a day numbe1r 1 to 7: \"))\n",
    "    if user_day == 1:\n",
    "        print(f\"Today is {week_days[user_day]}\") \n",
    "        \n",
    "    elif user_day == 2:\n",
    "        print(f\"Today is {week_days[user_day]}\")\n",
    "\n",
    "    elif user_day == 3:\n",
    "        print(f\"Today is {week_days[user_day]}\") \n",
    "\n",
    "    elif user_day == 4:\n",
    "        print(f\"Today is {week_days[user_day]}\") \n",
    "\n",
    "    elif user_day == 5:\n",
    "        print(f\"Today is {week_days[user_day]}\") \n",
    "\n",
    "    elif user_day == 6:\n",
    "        print(f\"Today is {week_days[user_day]}\")\n",
    "        7\n",
    "    \n",
    "    elif user_day == 7:\n",
    "        print(f\"Today is {week_days[user_day]}\") \n",
    "\n",
    "    else:\n",
    "        print(f\"Sorry! Error! your number is must be (1 to 7): {user_day}\")                              \n",
    "\n",
    "except ValueError:\n",
    "    print(\"please Enter a interger number 1 to 7 \")     "
   ]
  },
  {
   "cell_type": "markdown",
   "id": "03058a0c",
   "metadata": {},
   "source": [
    "7. Write a program that prompts the user to enter their weight (in kilograms) and height (in meters). \n",
    "   \n",
    "   The program should calculate the Body Mass Index (BMI) using the formula: BMI = weight / (height * height). \n",
    "   \n",
    "   The program should then classify the BMI into one of the following categories:\n",
    "* less than 18.5 - Underweight \n",
    "* BMI between 18.5 and 24.9 - Normal weight \n",
    "* BMI between 25 and 29.9 - Overweight \n",
    "* BMI 30 or greater - Obesity \n",
    " "
   ]
  },
  {
   "cell_type": "code",
   "execution_count": 70,
   "id": "28d7c6d6",
   "metadata": {},
   "outputs": [],
   "source": [
    "weight = int(input(\"Enter your weight in (kg) :\"))\n",
    "height = float(input(\"Enter your weight in (meter) :\"))\n",
    "\n",
    "bmi = weight / (height * height)\n",
    "\n",
    "if bmi < 18.5:\n",
    "    print(f\"(Underweight) BMI = {bmi:.2f}\")\n",
    "\n",
    "elif 18.5 <= bmi <= 24.9:\n",
    "    print(f\"(Normal weight)) BMI = {bmi:.2f}\") \n",
    "\n",
    "elif 25 <= bmi <= 29.9:\n",
    "    print(f\"(Overweight)) BMI = {bmi:.2f}\")\n",
    "\n",
    "else:\n",
    "    print(f\"Obesity BMI = {bmi:.2f}\")\n",
    " \n",
    "\n",
    "\n"
   ]
  },
  {
   "cell_type": "markdown",
   "id": "8c3680cc",
   "metadata": {},
   "source": [
    "8. The marks obtained by a student in 3 different subjects are input by the user. Your \n",
    "   program should calculate the average of subjects and display the grade. \n",
    "   \n",
    "   The student gets a grade as per the following rules: \n",
    "* Average Grade \n",
    "* 90-100 A \n",
    "* 80-89 B \n",
    "* 70-79 C \n",
    "* 60-69 D \n",
    "* 0-59 F"
   ]
  },
  {
   "cell_type": "code",
   "execution_count": 78,
   "id": "cbf28378",
   "metadata": {},
   "outputs": [],
   "source": [
    "islamiat = int(input(\"Enter your islamiat marks: \"))\n",
    "english = int(input(\"Enter your English marks: \"))\n",
    "math = int(input(\"Enter your math marks: \"))\n",
    "\n",
    "average = (islamiat + english + math) / 3\n",
    "grade = \"\"\n",
    "if average >= 90 and average <= 100:\n",
    "    grade = \"A\"\n",
    "\n",
    "elif 80 <= average <= 89:\n",
    "    grade = \"B\"  \n",
    "\n",
    "elif 70 <= average <= 79:\n",
    "    grade = \"C\" \n",
    "\n",
    "elif 60 <= average <= 69:\n",
    "    grade = \"D\" \n",
    "\n",
    "elif 0 <= average <= 59:\n",
    "    grade = \"F\" \n",
    "\n",
    "else:\n",
    "    print(\"Plese Enter a positive interger average number!\")\n",
    "\n",
    "print(f\"Islamiat marks: {islamiat}\\nEnglish marks: {english}\\nMath marks: {math}\\nGrade: {grade}\")\n"
   ]
  },
  {
   "cell_type": "markdown",
   "id": "f9db797f",
   "metadata": {},
   "source": [
    "9. The roots of the quadratic equation ax2 + bx + c = 0, a ≠ 0 are given by the following \n",
    "formula: \n",
    "\n",
    "In this formula, the term b2\n",
    " - 4ac is called the discriminant. If b2\n",
    " - 4ac = 0, then the \n",
    "\n",
    "equation has two equal roots. \n",
    "If b2\n",
    " - 4ac > 0, the equation has two real roots. If b2\n",
    " - 4ac < 0, the equation has two \n",
    "\n",
    "complex roots. \n",
    "\n",
    "Write a program that prompts the user to input the value of a (the coefficient of x2\n",
    "), b \n",
    "(the coefficient of x), and c (the constant term) and outputs the roots of the quadratic \n",
    "equation. "
   ]
  },
  {
   "cell_type": "code",
   "execution_count": null,
   "id": "029ddfe9",
   "metadata": {},
   "outputs": [],
   "source": [
    "import math\n",
    "\n",
    "a = float(input(\"Enter the coefficient a: \"))\n",
    "b = float(input(\"Enter the coefficient b: \"))\n",
    "c = float(input(\"Enter the constant term c: \"))\n",
    "\n",
    "if a == 0:\n",
    "    print(\"Coefficient 'a' cannot be zero in a quadratic equation.\")\n",
    "else:\n",
    "    \n",
    "    discriminant = b ** 2 - 4 * a * c\n",
    "\n",
    "    if discriminant > 0:\n",
    "        root1 = (-b + math.sqrt(discriminant)) / (2 * a)\n",
    "        root2 = (-b - math.sqrt(discriminant)) / (2 * a)\n",
    "        print(f\"The roots are real and distinct: {root1} and {root2}\")\n",
    "    \n",
    "    elif discriminant == 0:\n",
    "        root = -b / (2 * a)\n",
    "        print(f\"The roots are real and equal: {root}\")\n",
    "    \n",
    "    else:\n",
    "        real_part = -b / (2 * a)\n",
    "        imaginary_part = math.sqrt(-discriminant) / (2 * a)\n",
    "        print(f\"The roots are complex: {real_part} + {imaginary_part}i and {real_part} - {imaginary_part}i\")\n"
   ]
  },
  {
   "cell_type": "markdown",
   "id": "d58fc46b",
   "metadata": {},
   "source": [
    "10. Write a program that prompts the user to enter three numbers and sorts them in \n",
    "ascending order. The program should print the sorted numbers. "
   ]
  },
  {
   "cell_type": "code",
   "execution_count": 4,
   "id": "397c96cf",
   "metadata": {},
   "outputs": [],
   "source": [
    "num_lst = []\n",
    "\n",
    "try:\n",
    "    for _ in range(3):\n",
    "        user_input_num = int(input(\"Enter a number: \"))\n",
    "        num_lst.append(user_input_num)\n",
    "    print(num_lst)    \n",
    "    num_lst.sort()\n",
    "    print(\"\\nSorted number\")\n",
    "    for i in num_lst:\n",
    "        print(i, end=\" \")     \n",
    "except Exception as e:\n",
    "    print(\"Error! Please enter integer number\")\n",
    "\n"
   ]
  },
  {
   "cell_type": "markdown",
   "id": "a8a7fa25",
   "metadata": {},
   "source": [
    "11. Write a program that prompts the user to input three integers and outputs the \n",
    "largest. "
   ]
  },
  {
   "cell_type": "code",
   "execution_count": 11,
   "id": "b9fee313",
   "metadata": {},
   "outputs": [],
   "source": [
    "num_lst = []\n",
    "\n",
    "try:\n",
    "    result = 0\n",
    "    \n",
    "    for _ in range(3):\n",
    "        user_input_num = int(input(\"Enter a number: \"))\n",
    "        num_lst.append(user_input_num)\n",
    "    print(\"Number list : \",num_lst)    \n",
    "    \n",
    "    for i in num_lst:\n",
    "        if i > result:\n",
    "            result = i\n",
    "    print(\"\\nLargest number is \", {(result)})        \n",
    "\n",
    "except Exception as e:\n",
    "    print(\"Error! Please enter integer number\")"
   ]
  },
  {
   "cell_type": "markdown",
   "id": "312ab0e3",
   "metadata": {},
   "source": [
    "12. Write a program that prompts the user to input a character and determine the \n",
    "character is vowel or consonant."
   ]
  },
  {
   "cell_type": "code",
   "execution_count": 20,
   "id": "1da2c5c9",
   "metadata": {},
   "outputs": [],
   "source": [
    "user_character = input(\"Enter a character: \")\n",
    "\n",
    "if user_character.lower() in [\"a\",\"e\",\"i\", \"o\", \"u\" ]:\n",
    "    print(f\"Character is vowel: {(user_character)} \")\n",
    "\n",
    "else:\n",
    "    print(f\"Character is consonant: {(user_character)} \")"
   ]
  },
  {
   "cell_type": "markdown",
   "id": "6614b6e7",
   "metadata": {},
   "source": [
    "13. Write a program that prompts the user to input a year and determine whether the year is a leap year or not. \n",
    "\n",
    "    Leap Years are any year that can be evenly divided by 4. A year that is evenly divisible by \n",
    "    \n",
    "    100 is a leap year only if it is also evenly divisible by 400. Example: \n",
    "* 1992 Leap Year \n",
    "* 2000 Leap Year \n",
    "* 1900 NOT a Leap Year \n",
    "* 1995 NOT a Leap Year"
   ]
  },
  {
   "cell_type": "code",
   "execution_count": 38,
   "id": "3c6fa84e",
   "metadata": {},
   "outputs": [],
   "source": [
    "user_input_year = int(input(\"Enter the year example (1995, 2000): \"))\n",
    "\n",
    "if user_input_year%4 == 0:\n",
    "    \n",
    "    if user_input_year % 100 == 0:\n",
    "          \n",
    "        if user_input_year % 400 == 0:\n",
    "            print(f\"{user_input_year} is Leap year\")\n",
    "          \n",
    "        else:\n",
    "               print(f\"{user_input_year} is Not a Leap year\")     \n",
    "          \n",
    "    else:\n",
    "          print(f\"{user_input_year} is a Leap year\")\n",
    "\n",
    "else:\n",
    "     print(f\"{user_input_year} is Not a Leap year\")  \n",
    "\n",
    "# \"1992 is a leap year!\"\n",
    "# \"1900 is NOT a leap year!\"\n",
    "# \"2000 is a leap year!\"        "
   ]
  },
  {
   "cell_type": "markdown",
   "id": "cec41bce",
   "metadata": {},
   "source": [
    "14. Write a program that prompts the user to input number of calls and calculate the \n",
    "\n",
    "    monthly telephone bills as per the following rule: \n",
    "\n",
    "    Minimum Rs. 200 for up to 100 calls. \n",
    "* Plus Rs. 0.60 per call for next 50 calls. \n",
    "* Plus Rs. 0.50 per call for next 50 calls. \n",
    "* Plus Rs. 0.40 per call for any call beyond 200 calls."
   ]
  },
  {
   "cell_type": "code",
   "execution_count": null,
   "id": "815b6db3",
   "metadata": {},
   "outputs": [],
   "source": [
    "number_of_call = int(input(\"Enter the monthly telephone call: \"))\n",
    "base_bill = 200.0\n",
    "\n",
    "for i in range(number_of_call +1):\n",
    "    if i > 0 and i <= 100:\n",
    "        base_bill = 200  \n",
    "    \n",
    "    elif i > 100 and i <= 150:\n",
    "        base_bill += 0.60\n",
    "    \n",
    "    elif i > 150 and i <= 200:\n",
    "        base_bill += 0.50\n",
    "\n",
    "    else:\n",
    "        base_bill += 0.40       \n",
    "   \n",
    "\n",
    "if number_of_call <= 0:\n",
    "    print(f\"No charges your no monthly calls {number_of_call}  \")    \n",
    "\n",
    "else:\n",
    "    print(f\"Your monthly calls {number_of_call} and current bill is {base_bill:.2f}\")\n",
    "\n",
    "# Input: Number of calls made by the user (e.g., 120, 180, 250).\n",
    "# Output: Total monthly telephone bill (e.g., Rs. 212, Rs. 230, Rs. 266)."
   ]
  },
  {
   "cell_type": "code",
   "execution_count": null,
   "id": "695ddacd",
   "metadata": {},
   "outputs": [],
   "source": [
    "number_of_call = int(input(\"Enter a number the monthly telephone call: \"))\n",
    "base_bill = 200\n",
    "\n",
    "if number_of_call > 100:\n",
    "    if number_of_call <= 150:\n",
    "        base_bill += (number_of_call - 100) * 0.60\n",
    "    \n",
    "    elif number_of_call <= 200:\n",
    "        base_bill += (50 * 0.60) + ((number_of_call - 150) * 0.50)\n",
    "\n",
    "    else:\n",
    "        base_bill += (50 * 0.60) + (50 * 0.50) + ((number_of_call - 200) * 0.40)\n",
    "\n",
    "print(f\"Your total telephone bill is: Rs. {base_bill:.2f}\")            \n",
    "\n",
    "    \n"
   ]
  }
 ],
 "metadata": {
  "kernelspec": {
   "display_name": "Python 3 (ipykernel)",
   "language": "python",
   "name": "python3"
  },
  "language_info": {
   "codemirror_mode": {
    "name": "ipython",
    "version": 3
   },
   "file_extension": ".py",
   "mimetype": "text/x-python",
   "name": "python",
   "nbconvert_exporter": "python",
   "pygments_lexer": "ipython3",
   "version": "3.9.18"
  }
 },
 "nbformat": 4,
 "nbformat_minor": 5
}
