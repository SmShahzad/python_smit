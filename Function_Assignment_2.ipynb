{
 "cells": [
  {
   "cell_type": "markdown",
   "id": "d470604e",
   "metadata": {},
   "source": [
    "Task1: \n",
    "You need to write a function in python that return all such numbers which are \n",
    "\n",
    "divisible by 7 but are not a multiple of 5, between 2000 and 3200 (both included). \n",
    "\n",
    "Return the obtained numbers in a comma-separated sequence on a single line."
   ]
  },
  {
   "cell_type": "code",
   "execution_count": null,
   "id": "436be5b5",
   "metadata": {},
   "outputs": [],
   "source": [
    "def number_divisible_7():\n",
    "    \n",
    "    for i in range(2000, 3200 + 1):\n",
    "        if i % 7 == 0:\n",
    "            if i % 5 != 0:\n",
    "                print(i, end = \",\")\n",
    "\n",
    "number_divisible_7()\n"
   ]
  },
  {
   "cell_type": "code",
   "execution_count": null,
   "id": "a8506374",
   "metadata": {},
   "outputs": [],
   "source": [
    "def find_numbers():\n",
    "    # Create an empty list to store the results\n",
    "    result = []\n",
    "\n",
    "    # Loop through numbers from 2000 to 3200 (both inclusive)\n",
    "    for num in range(2000, 3201):\n",
    "        # Check if the number is divisible by 7 and not a multiple of 5\n",
    "        if num % 7 == 0 and num % 5 != 0:\n",
    "            # Add the number to the result list\n",
    "            result.append(str(num))  # Convert number to string for final output\n",
    "\n",
    "    # Return the result as a comma-separated string\n",
    "    return \",\".join(result)\n",
    "\n",
    "# Print the output\n",
    "print(find_numbers())\n"
   ]
  },
  {
   "cell_type": "markdown",
   "id": "610ed904",
   "metadata": {},
   "source": [
    "Task2: \n",
    "You need code a function that calculates and returns the value according to the \n",
    "\n",
    "given formula: \n",
    "\n",
    "P = Square root of [(2 * A * B)/C] \n",
    "\n",
    "Following are the fixed values of A and B: \n",
    "\n",
    "A is 50. B is 30. \n",
    "\n",
    "The values of the literal C should be taken as console input to your program in a \n",
    "\n",
    "comma-separated sequence. \n",
    "\n",
    "Example \n",
    "\n",
    "Let us assume the following comma separated input sequence is given to the \n",
    "program: \n",
    "\n",
    "100,150,180 \n",
    "\n",
    "The output of the program should be: \n",
    "18,22,24"
   ]
  },
  {
   "cell_type": "code",
   "execution_count": null,
   "id": "3e3a0188",
   "metadata": {},
   "outputs": [],
   "source": [
    "def square_root_calculate(a, b, c):\n",
    "    for i in c:\n",
    "        p = (2 * a * b) / int(i)\n",
    "        print(f\"Approximating the square root: {p}\" )\n",
    "\n",
    "input_value_of_c = (input(\"Enter a three value of C comma seperated : \"))\n",
    "value_c = input_value_of_c.split()\n",
    "\n",
    "square_root_calculate(50 , 30 , value_c)\n"
   ]
  },
  {
   "cell_type": "code",
   "execution_count": 5,
   "id": "4c8e6bb3",
   "metadata": {},
   "outputs": [],
   "source": [
    "import math\n",
    "\n",
    "# Fixed values of A and B\n",
    "A = 50\n",
    "B = 30\n",
    "\n",
    "# Input values for C as a comma-separated string\n",
    "input_values = input(\"Enter values for C (comma-separated): \")\n",
    "\n",
    "# Convert input string into a list of integers\n",
    "C_values = list(map(int, input_values.split(',')))\n",
    "\n",
    "# Calculate P for each value of C\n",
    "P_values = [int(math.sqrt((2 * A * B) / C)) for C in C_values]\n",
    "\n",
    "# Print the results as comma-separated values\n",
    "print(','.join(map(str, P_values)))\n"
   ]
  },
  {
   "cell_type": "code",
   "execution_count": 6,
   "id": "d144f851",
   "metadata": {},
   "outputs": [],
   "source": [
    "# Fixed values of A and B\n",
    "A = 50\n",
    "B = 30\n",
    "\n",
    "# Input values for C as a comma-separated string\n",
    "input_values = input(\"Enter values for C (comma-separated): \")\n",
    "\n",
    "# Convert input string into a list of integers\n",
    "C_values = list(map(int, input_values.split(',')))\n",
    "\n",
    "# Function to calculate square root without using math module\n",
    "def sqrt(n):\n",
    "    x = n\n",
    "    y = (x + 1) // 2\n",
    "    while y < x:\n",
    "        x = y\n",
    "        y = (x + n // x) // 2\n",
    "    return x\n",
    "\n",
    "# Calculate P for each value of C\n",
    "P_values = [int(sqrt((2 * A * B) // C)) for C in C_values]\n",
    "\n",
    "# Print the results as comma-separated values\n",
    "print(','.join(map(str, P_values)))\n"
   ]
  },
  {
   "cell_type": "code",
   "execution_count": 7,
   "id": "456649ee",
   "metadata": {},
   "outputs": [],
   "source": [
    "# Fixed values of A and B\n",
    "A = 50\n",
    "B = 30\n",
    "\n",
    "# Input values for C\n",
    "input_values = input(\"Enter values for C (comma-separated): \")\n",
    "\n",
    "# Convert input into a list of integers\n",
    "C_values = [int(x) for x in input_values.split(',')]\n",
    "\n",
    "# Calculate P without math module\n",
    "P_values = []\n",
    "for C in C_values:\n",
    "    result = (2 * A * B) // C\n",
    "    P = 0\n",
    "    while P * P <= result:\n",
    "        P += 1\n",
    "    P_values.append(P - 1)\n",
    "\n",
    "# Print the results\n",
    "print(','.join(map(str, P_values)))\n"
   ]
  },
  {
   "cell_type": "code",
   "execution_count": 8,
   "id": "b28b75fd",
   "metadata": {},
   "outputs": [],
   "source": [
    "# Fixed values of A and B\n",
    "A = 50\n",
    "B = 30\n",
    "\n",
    "# Input values for C\n",
    "input_values = input(\"Enter values for C (comma-separated): \")\n",
    "\n",
    "# Convert input into a list of integers\n",
    "C_values = [int(x) for x in input_values.split(',')]\n",
    "\n",
    "# Calculate P without math module\n",
    "P_values = []\n",
    "for C in C_values:\n",
    "    result = (2 * A * B) // C\n",
    "    P = 0\n",
    "    while P * P <= result:\n",
    "        P += 1\n",
    "    P_values.append(P - 1)\n",
    "\n",
    "# Print the results\n",
    "print(','.join(map(str, P_values)))\n"
   ]
  },
  {
   "cell_type": "markdown",
   "id": "549c2ae3",
   "metadata": {},
   "source": [
    "Task3: \n",
    "You need to write a function that takes a comma separated sequence of words as \n",
    "\n",
    "input and prints the words in a comma-separated sequence after sorting them alphabetically. \n",
    "\n",
    "Suppose the following input is supplied to the program: \n",
    "* without,hello,bag,world \n",
    "* Then, the output should be: \n",
    "* bag,hello,without,world \n"
   ]
  },
  {
   "cell_type": "code",
   "execution_count": 24,
   "id": "bdc95d68",
   "metadata": {},
   "outputs": [],
   "source": [
    "def words(text):\n",
    "    print(text)\n",
    "    tex = text.split(\",\")\n",
    "    tex.sort() \n",
    "    return \",\".join(tex)\n",
    "\n",
    "input_word = input(\"Enter the words in a comma-separated sequence: \")\n",
    "words(input_word)\n",
    "    \n",
    "    \n"
   ]
  },
  {
   "cell_type": "code",
   "execution_count": null,
   "id": "d6305083",
   "metadata": {},
   "outputs": [],
   "source": [
    "def sort_words(input_str):\n",
    "    # Split the input string into a list of words\n",
    "    words = input_str.split(',')\n",
    "    \n",
    "    # Sort the words alphabetically\n",
    "    words.sort()\n",
    "    \n",
    "    # Join the sorted words back into a comma-separated string\n",
    "    result = ','.join(words)\n",
    "    \n",
    "    # Print the result\n",
    "    print(result)\n",
    "\n",
    "# Input\n",
    "input_str = input(\"Enter words separated by commas: \")\n",
    "sort_words(input_str)\n"
   ]
  },
  {
   "cell_type": "markdown",
   "id": "d0afef6c",
   "metadata": {},
   "source": [
    "Task4: \n",
    "You need to write a program that takes sequence of lines as input and prints the \n",
    "lines after making all characters in the sentence capitalized. \n",
    "\n",
    "Suppose the following input is supplied to the program: \n",
    "* Hello world \n",
    "* Practice makes perfect \n",
    "\n",
    "Then, the output should be: \n",
    "* HELLO WORLD \n",
    "* PRACTICE MAKES PERFECT"
   ]
  },
  {
   "cell_type": "code",
   "execution_count": 37,
   "id": "6ac6b303",
   "metadata": {},
   "outputs": [],
   "source": [
    "def capitalized_sentence(input_str:str):\n",
    "    #input_str = input_str.split(\",\")\n",
    "    for word in input_str:\n",
    "        print(word.upper(),end = \"\")\n",
    "        if word == \"d\":\n",
    "            print(\"\")\n",
    "    #return input_str.upper()\n",
    "capitalized_sentence(\"Hello worldPractice makes perfect\")\n"
   ]
  },
  {
   "cell_type": "code",
   "execution_count": null,
   "id": "6806ada1",
   "metadata": {},
   "outputs": [],
   "source": [
    "def capitalize_lines():\n",
    "    print(\"Enter lines (press Enter twice to stop):\")\n",
    "    lines = []\n",
    "\n",
    "    while True:\n",
    "        line = input()\n",
    "        if line == \"\":\n",
    "            break\n",
    "        lines.append(line.upper())\n",
    "\n",
    "    print(\"\\nCapitalized Output:\")\n",
    "    for line in lines:\n",
    "        print(line)\n",
    "\n",
    "capitalize_lines()\n"
   ]
  },
  {
   "cell_type": "markdown",
   "id": "cda25f11",
   "metadata": {},
   "source": [
    "Task5: \n",
    "You need to write a function that counts the number of vowels in a given sentence as input from console. \n",
    "\n",
    "Suppose the following input is supplied to the program: \n",
    "\n",
    "Hello world  \n",
    "Practice makes perfect \n",
    "\n",
    "Then, the output should be: \n",
    "\n",
    "* a appeared 2 times \n",
    "* e appeared 5 times \n",
    "* i appeared 1 time \n",
    "* o appeared 2 times \n",
    "* u appeared 0 time \n",
    "\n",
    "PRACTICE MAKES PERFECT \n"
   ]
  },
  {
   "cell_type": "code",
   "execution_count": null,
   "id": "72a20c1f",
   "metadata": {},
   "outputs": [],
   "source": [
    "def sentence_input(text:str):\n",
    "    vowels = [\"a\", \"e\", \"i\", \"o\", 'u']\n",
    "    for i in range(len(vowels)):\n",
    "        print(f\"{vowels[i]} appeared {text.count(vowels[i])} times\" )\n",
    "        uppertext = text.upper()\n",
    "    text = uppertext.split()\n",
    "    print(\"\")\n",
    "    print(\" \".join(text[2:]) ,end = \"\")\n",
    "input_sentence = input(\"Enter a sentence: \")\n",
    "sentence_input(input_sentence)    "
   ]
  },
  {
   "cell_type": "markdown",
   "id": "67d1d95e",
   "metadata": {},
   "source": [
    "Task6: \n",
    "You need write a function that traces and makes a list of all such numbers \n",
    "from1000 to 3000 in which all the digits are even numbers. \n"
   ]
  },
  {
   "cell_type": "code",
   "execution_count": null,
   "id": "05d6f5a4",
   "metadata": {},
   "outputs": [],
   "source": [
    "def traces_all_digit_num():\n",
    "    even_digit_lst = []\n",
    "    for num in range(1000, 3000 + 1):\n",
    "        num_str = str(num)\n",
    "        is_even_num = True\n",
    "\n",
    "        for digit in num_str:\n",
    "            if int(digit) % 2 != 0:\n",
    "                is_even_num = False\n",
    "                break\n",
    "        \n",
    "        if is_even_num:\n",
    "            even_digit_lst.append(num)\n",
    "    \n",
    "    return even_digit_lst        \n",
    "\n",
    "traces_all_digit_num()            \n"
   ]
  },
  {
   "cell_type": "code",
   "execution_count": null,
   "id": "b5539155",
   "metadata": {},
   "outputs": [],
   "source": [
    "number_lst = []\n",
    "def traces_even(numlst):\n",
    "    for i in range(1000, 3000 + 1):\n",
    "        number_lst.append(i)\n",
    "    for num in numlst:\n",
    "        if num % 2 == 0:\n",
    "            print(f\"Even number: {num}\")     \n",
    "\n",
    "traces_even(number_lst)        \n"
   ]
  },
  {
   "cell_type": "code",
   "execution_count": null,
   "id": "efcde07a",
   "metadata": {},
   "outputs": [],
   "source": [
    "def find_even_digit_numbers():\n",
    "    even_digit_numbers = []\n",
    "    for number in range(1000, 3001):  # Include 3000 in the range\n",
    "        num_str = str(number)\n",
    "        if all(int(digit) % 2 == 0 for digit in num_str):  # Check if all digits are even\n",
    "            even_digit_numbers.append(number)\n",
    "    return even_digit_numbers\n",
    "\n",
    "# Example usage\n",
    "result = find_even_digit_numbers()\n",
    "print(result)\n"
   ]
  },
  {
   "cell_type": "code",
   "execution_count": null,
   "id": "720be13c",
   "metadata": {},
   "outputs": [],
   "source": [
    "def find_even_digit_numbers():\n",
    "    even_digit_numbers = []  # Initialize an empty list to store the results\n",
    "\n",
    "    for num in range(1000, 3001):  # Loop through numbers from 1000 to 3000 (inclusive)\n",
    "        num_str = str(num)  # Convert the number to a string for digit-by-digit checking\n",
    "        is_even_digit = True  # Flag to check if all digits are even\n",
    "\n",
    "        for digit in num_str:  # Check each digit in the number\n",
    "            if int(digit) % 2 != 0:  # If the digit is odd\n",
    "                is_even_digit = False\n",
    "                break  # No need to check further; exit the loop\n",
    "\n",
    "        if is_even_digit:  # If all digits are even, add to the list\n",
    "            even_digit_numbers.append(num)\n",
    "\n",
    "    return even_digit_numbers  # Return the list of numbers\n",
    "\n",
    "# Example usage\n",
    "result = find_even_digit_numbers()\n",
    "print(result)\n"
   ]
  },
  {
   "cell_type": "markdown",
   "id": "b7c5e19d",
   "metadata": {},
   "source": [
    "Task7: \n",
    "You need to write a code which accepts a sequence of comma separated 4 digit \n",
    "binary numbers as its input and then check whether they are divisible by 5 or not. \n",
    "\n",
    "The numbers that are divisible by 5 are to be printed in a comma separated \n",
    "sequence. \n",
    "\n",
    "Example: \n",
    "* 0100,0011,1010,1001 \n",
    "\n",
    "Then the output should be: \n",
    "* 1010 \n"
   ]
  },
  {
   "cell_type": "code",
   "execution_count": 1,
   "id": "07a345f1",
   "metadata": {},
   "outputs": [
    {
     "name": "stdout",
     "output_type": "stream",
     "text": [
      "1010,"
     ]
    }
   ],
   "source": [
    "def binary_digit_num_check(accept_binary_num):\n",
    "    binary_num = accept_binary_num.split(\",\")\n",
    "    for num in binary_num:\n",
    "        if int(num, 2) % 5 == 0:\n",
    "            print(num, end = \",\")\n",
    "binary_num = input(\"Enter the binary number: \")\n",
    "binary_digit_num_check(binary_num)\n"
   ]
  },
  {
   "cell_type": "code",
   "execution_count": null,
   "id": "88cf50aa",
   "metadata": {},
   "outputs": [],
   "source": [
    "def divisible_by_5(binary_numbers):\n",
    "    # Split the input string into a list of binary numbers\n",
    "    binaries = binary_numbers.split(',')\n",
    "    \n",
    "    # Filter numbers divisible by 5\n",
    "    divisible = [binary for binary in binaries if int(binary, 2) % 5 == 0]\n",
    "    \n",
    "    # Return the result as a comma-separated string\n",
    "    return ','.join(divisible)\n",
    "\n",
    "# Input prompt\n",
    "binary_input = input(\"Enter comma-separated 4-digit binary numbers: \")\n",
    "result = divisible_by_5(binary_input)\n",
    "\n",
    "# Output the result\n",
    "print(result)\n"
   ]
  },
  {
   "cell_type": "markdown",
   "id": "09cf0137",
   "metadata": {},
   "source": [
    "Task8: \n",
    "\n",
    "Write a program that accepts a sentence and calculate the number of letters and \n",
    "digits. \n",
    "\n",
    "Suppose the following input is supplied to the program: \n",
    "* hello world! 123 \n",
    "* Then, the output should be: \n",
    "* LETTERS 10 \n",
    "* DIGITS 3"
   ]
  },
  {
   "cell_type": "code",
   "execution_count": 1,
   "id": "ff5f54f5",
   "metadata": {},
   "outputs": [
    {
     "name": "stdout",
     "output_type": "stream",
     "text": [
      "LETTERS 10\n",
      "DIGITS 3\n"
     ]
    }
   ],
   "source": [
    "def count_letters_digits(sentence):\n",
    "    letters = sum(1 for char in sentence if char.isalpha())\n",
    "    digits = sum(1 for char in sentence if char.isdigit())\n",
    "    return letters, digits\n",
    "\n",
    "sentence = input(\"Enter a sentence: \")\n",
    "\n",
    "letters, digits = count_letters_digits(sentence)\n",
    "\n",
    "print(f\"LETTERS {letters}\")\n",
    "print(f\"DIGITS {digits}\")\n"
   ]
  },
  {
   "cell_type": "code",
   "execution_count": null,
   "id": "19c01adf",
   "metadata": {},
   "outputs": [],
   "source": []
  }
 ],
 "metadata": {
  "kernelspec": {
   "display_name": "Python 3 (ipykernel)",
   "language": "python",
   "name": "python3"
  },
  "language_info": {
   "codemirror_mode": {
    "name": "ipython",
    "version": 3
   },
   "file_extension": ".py",
   "mimetype": "text/x-python",
   "name": "python",
   "nbconvert_exporter": "python",
   "pygments_lexer": "ipython3",
   "version": "3.9.18"
  }
 },
 "nbformat": 4,
 "nbformat_minor": 5
}
