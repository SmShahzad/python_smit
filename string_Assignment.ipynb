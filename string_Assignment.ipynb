{
 "cells": [
  {
   "cell_type": "markdown",
   "metadata": {},
   "source": [
    "1. Write a program that accepts a string from user. \n",
    "\n",
    "   Your program should count and display number of vowels in that string. "
   ]
  },
  {
   "cell_type": "code",
   "execution_count": null,
   "metadata": {},
   "outputs": [],
   "source": [
    "user_input_string = input(\"Enter a string: \")\n",
    "count = 0\n",
    "vowels = 'aeiouAEIOU'\n",
    "volwels_lst = []\n",
    "for str in user_input_string:\n",
    "    if str in vowels:\n",
    "        count +=1\n",
    "        volwels_lst.append(str)\n",
    "        #print(f\"count: {count} \\nvowels: {str}\")\n",
    "remove_space = user_input_string.replace(\" \", \"\")        \n",
    "print(f\"User_input_string : {user_input_string} \")\n",
    "print(f\"Count of all words User_input_string : {len(remove_space)} \")\n",
    "print(f\"Display number of vowels : {count} \")\n",
    "if len(volwels_lst) != 0:\n",
    "    print(f\"Vowels of  User_input_string: {volwels_lst} \")\n",
    "\n",
    "\n",
    "# # Program to count the number of vowels in a string\n",
    "# def count_vowels(input_string):\n",
    "#     vowels = \"aeiouAEIOU\"  # List of vowels (both lowercase and uppercase)\n",
    "#     count = 0\n",
    "\n",
    "#     for char in input_string:\n",
    "#         if char in vowels:\n",
    "#             count += 1\n",
    "\n",
    "#     return count\n",
    "\n",
    "# # Accept input from the user\n",
    "# user_input = input(\"Enter a string: \").replace(\" \", \"\")  # Remove all whitespace\n",
    "\n",
    "# # Count vowels\n",
    "# vowel_count = count_vowels(user_input)\n",
    "\n",
    "# # Display the result\n",
    "# print(f\"The number of vowels in the string is: {vowel_count}\")\n"
   ]
  },
  {
   "cell_type": "markdown",
   "metadata": {},
   "source": [
    "2. Write a program that reads a string from keyboard and display: \n",
    "* The number of uppercase letters in the string \n",
    "* The number of lowercase letters in the string \n",
    "* The number of digits in the string \n",
    "* The number of whitespace characters in the string"
   ]
  },
  {
   "cell_type": "code",
   "execution_count": null,
   "metadata": {},
   "outputs": [],
   "source": [
    "text = input(\"Enter a String: \")\n",
    "num_of_upper = 0\n",
    "num_of_lower = 0\n",
    "num_of_digits = 0\n",
    "\n",
    "\n",
    "\n",
    "white_space_count = 0\n",
    "for chr in text:\n",
    "    if chr.replace(\" \", \"\") == chr.upper():\n",
    "        num_of_upper +=1\n",
    "    elif chr.replace(\" \", \"\") == chr.lower():\n",
    "        num_of_lower +=1   \n",
    "    elif chr.isspace():\n",
    "        white_space_count +=1\n",
    "\n",
    "#white_space_count = text.count(\" \")\n",
    "#white_space_count = sum(1 for chr in text if chr.isspace())\n",
    "\n",
    "digits = text.replace(\" \", \"\")\n",
    "print(f\"text of String: {text}\")    \n",
    "print(f\"The number of uppercase letters in the string {(num_of_upper)}\")        \n",
    "print(f\"The number of lowercase letters in the string {(num_of_lower)}\")        \n",
    "print(f\"The number of digits in the string {(len(digits))}\")        \n",
    "print(f\"The number of whitespace characters in the string {(white_space_count)}\")        \n"
   ]
  },
  {
   "cell_type": "markdown",
   "metadata": {},
   "source": [
    "3. Write a Python program that accepts a string from user. Your program should create and display a \n",
    "   \n",
    "   new string where the first and last characters have been exchanged. \n",
    "   \n",
    "   For example if the user enters the string 'HELLO' then new string would be 'OELLH' "
   ]
  },
  {
   "cell_type": "code",
   "execution_count": null,
   "metadata": {},
   "outputs": [],
   "source": [
    "# Get input from the user\n",
    "user_input = input(\"Enter a string: \")\n",
    "print(f\"The User input string is {user_input}\")\n",
    "\n",
    "# Check if the string has at least 2 characters\n",
    "if len(user_input) < 2:\n",
    "    print(\"The string is too short to swap characters!\")\n",
    "else:\n",
    "    # Swap the first and last characters\n",
    "    new_string = user_input[-1] + user_input[1:-1] + user_input[0]\n",
    "\n",
    "    # Display the new string\n",
    "    print(\"The new string is:\", new_string)"
   ]
  },
  {
   "cell_type": "markdown",
   "metadata": {},
   "source": [
    "4. Write a Python program that accepts a string from user. Your program should create a new string in \n",
    "   reverse of first string and display it. \n",
    "\n",
    "   For example if the user enters the string 'EXAM' then new string would be 'MAXE'"
   ]
  },
  {
   "cell_type": "code",
   "execution_count": null,
   "metadata": {},
   "outputs": [],
   "source": [
    "# Get input from the user\n",
    "user_input = input(\"Enter a string: \")\n",
    "print(f\"The User input string is {user_input}\")\n",
    "\n",
    "\n",
    "new_string = user_input[len(user_input)::-1]\n",
    "\n",
    "# Display the new string\n",
    "print(\"The new string is:\", new_string)\n",
    "\n",
    "# # Accept input from the user\n",
    "# original_string = input(\"Enter a string: \")\n",
    "\n",
    "# # Create a new string that is the reverse of the original string\n",
    "# reversed_string = original_string[::-1]\n",
    "\n",
    "# # Display the reversed string\n",
    "# print(\"The reversed string is:\", reversed_string)\n"
   ]
  },
  {
   "cell_type": "markdown",
   "metadata": {},
   "source": [
    " 5. Write a Python program that accepts a string from user. Your program should create a new string by \n",
    "    shifting one position to left. \n",
    "    \n",
    "    For example if the user enters the string 'examination 2021' then new string would be 'xamination \n",
    "    2021e' \n"
   ]
  },
  {
   "cell_type": "code",
   "execution_count": null,
   "metadata": {},
   "outputs": [],
   "source": [
    "# Accept input from the user\n",
    "original_string = input(\"Enter a string: \")\n",
    "print(f\"The User input string is {original_string}\")\n",
    "\n",
    "# Create a new string that is the shifting one position to left of the original string\n",
    "new_string = original_string[1::] + original_string[0]\n",
    "\n",
    "# Display the reversed string\n",
    "print(\"The shifting one position to left string is:\", new_string)\n"
   ]
  },
  {
   "cell_type": "markdown",
   "metadata": {},
   "source": [
    "6. Write a program that asks the user to input his name and print its initials. \n",
    "   Assuming that the user always types first name, middle name and last name and does not include any unnecessary spaces. \n",
    "   \n",
    "   For example, if the user enters Ajay Kumar Garg the program should display A. K. G. \n",
    "   Note:Don't use split() method "
   ]
  },
  {
   "cell_type": "code",
   "execution_count": 6,
   "metadata": {},
   "outputs": [
    {
     "name": "stdout",
     "output_type": "stream",
     "text": [
      "Enter a string: Shah Muhammad Anwer \n",
      "User Name is: Shah Muhammad Anwer  \n",
      "Shah.Muhammad.Anwer.\n"
     ]
    }
   ],
   "source": [
    "user_input_text = input(\"Enter a string: \")\n",
    "print(f\"User Name is: {user_input_text} \")\n",
    "user_input_text = user_input_text.replace(\" \", \".\")\n",
    "print(user_input_text)"
   ]
  },
  {
   "cell_type": "code",
   "execution_count": 5,
   "metadata": {},
   "outputs": [
    {
     "name": "stdout",
     "output_type": "stream",
     "text": [
      "Enter your full name (first, middle, last): Ajay Kumar Garg\n",
      "Initials: A. K. G. \n"
     ]
    }
   ],
   "source": [
    "# name = input(\"Enter your full name (first, middle, last): \")\n",
    "\n",
    "# initials = \"\"\n",
    "# # for i in range(len(name)):\n",
    "# #     if i == 0 :\n",
    "# #         initials = name[i].upper() + \".\"\n",
    "# #     elif name[i] == \" \":\n",
    "# #         initials += name[i + 1].upper() + \".\"   \n",
    "\n",
    "# # print(\"Initials:\", initials)\n",
    "\n",
    "\n",
    "def extract_initials():\n",
    "    name = input(\"Enter your full name (first, middle, last): \")\n",
    "\n",
    "    initials = \"\"\n",
    "    length = len(name)\n",
    "    \n",
    "    for i in range(length):\n",
    "        # Check if it's the start of the name or the character after a space\n",
    "        if i == 0 or name[i - 1] == ' ':\n",
    "            initials += name[i].upper() + \". \"\n",
    "\n",
    "    print(\"Initials:\", initials)\n",
    "\n",
    "# Call the function\n",
    "extract_initials()"
   ]
  },
  {
   "cell_type": "markdown",
   "metadata": {},
   "source": [
    "7. A palindrome is a string that reads the same backward as forward. For example, the words dad, \n",
    "   madam and radar are all palindromes. \n",
    "   Write a programs that determines whether the string is a \n",
    "   palindrome. \n",
    "\n",
    "   Note: do not use reverse() method "
   ]
  },
  {
   "cell_type": "code",
   "execution_count": 4,
   "metadata": {},
   "outputs": [],
   "source": [
    "user_input = input(\"Enter a string\")\n",
    "new_string = user_input[::-1]\n",
    "if user_input == new_string:\n",
    "    print(f\"The string is a palindrome: {new_string}\")\n",
    "else:\n",
    "    print(f\"The string is not a palindrome: {user_input}\")     "
   ]
  },
  {
   "cell_type": "markdown",
   "metadata": {},
   "source": [
    "8. Write a program that display following output: \n",
    " SHIFT    HIFTS    IFTSH    FTSHI    TSHIF   SHIFT \n"
   ]
  },
  {
   "cell_type": "code",
   "execution_count": 9,
   "metadata": {},
   "outputs": [],
   "source": [
    "swp_text = \"SHIFT\"\n",
    "print(swp_text[1::]+ swp_text[0])\n",
    "print(swp_text[2::]+ swp_text[:2])\n",
    "print(swp_text[3::]+ swp_text[0:3])\n",
    "print(swp_text[-1]+ swp_text[:4])\n",
    "print(swp_text[-5:5])"
   ]
  },
  {
   "cell_type": "markdown",
   "metadata": {},
   "source": [
    "9. Write a program in python that accepts a string to setup a passwords. Your entered password must \n",
    "meet the following requirements: \n",
    "* The password must be at least eight characters long. \n",
    "* It must contain at least one uppercase letter. \n",
    "* It must contain at least one lowercase letter. \n",
    "* It must contain at least one numeric digit. \n",
    "\n",
    "Your program should should perform this validation. "
   ]
  },
  {
   "cell_type": "code",
   "execution_count": 5,
   "metadata": {},
   "outputs": [
    {
     "name": "stdout",
     "output_type": "stream",
     "text": [
      "The password must be at least eight characters long\n",
      "one uppercase letter one lowercase letter and one numeric digit\n"
     ]
    }
   ],
   "source": [
    "print(\"\"\"The password must be at least eight characters long\n",
    "one uppercase letter one lowercase letter and one numeric digit\"\"\")\n",
    "user_password = input('Enter the password: ')\n",
    "if len(user_password) >=8:\n",
    "    if user_password.isupper() and user_password.islower():# and user_password.():\n",
    "        print(f\"User password is {user_password}\")\n",
    "else:\n",
    "    print(f\"The password must be at least eight characters long\")\n",
    "    #print(f\"\\n\\nYour entered password must meet above the following requirements: {user_password} \")    \n"
   ]
  },
  {
   "cell_type": "code",
   "execution_count": null,
   "metadata": {},
   "outputs": [],
   "source": []
  },
  {
   "cell_type": "code",
   "execution_count": null,
   "metadata": {},
   "outputs": [],
   "source": [
    "def validate_password(password):\n",
    "    # Check if the password meets the length requirement\n",
    "    if len(password) < 8:\n",
    "        return \"Password must be at least 8 characters long.\"\n",
    "\n",
    "    # Check if the password contains at least one uppercase letter\n",
    "    if not any(char.isupper() for char in password):\n",
    "        return \"Password must contain at least one uppercase letter.\"\n",
    "\n",
    "    # Check if the password contains at least one lowercase letter\n",
    "    if not any(char.islower() for char in password):\n",
    "        return \"Password must contain at least one lowercase letter.\"\n",
    "\n",
    "    # Check if the password contains at least one numeric digit\n",
    "    if not any(char.isdigit() for char in password):\n",
    "        return \"Password must contain at least one numeric digit.\"\n",
    "\n",
    "    # If all checks pass, the password is valid\n",
    "    return \"Password is valid.\"\n",
    "\n",
    "# Get user input for the password\n",
    "user_password = input(\"Enter a password to set up: \")\n",
    "\n",
    "# Validate the password\n",
    "validation_result = validate_password(user_password)\n",
    "\n",
    "# Display the result\n",
    "print(validation_result)"
   ]
  },
  {
   "cell_type": "code",
   "execution_count": null,
   "metadata": {},
   "outputs": [],
   "source": [
    "# Get user input for the password\n",
    "user_password = input(\"Enter a password to set up: \")\n",
    "\n",
    "# Check if the password meets the length requirement\n",
    "if len(user_password) < 8:\n",
    "    print(\"Password must be at least 8 characters long.\")\n",
    "\n",
    "# Check if the password contains at least one uppercase letter\n",
    "else:\n",
    "    has_upper = False\n",
    "    for char in user_password:\n",
    "        if char.isupper():\n",
    "            has_upper = True\n",
    "            break\n",
    "    if not has_upper:\n",
    "        print(\"Password must contain at least one uppercase letter.\")\n",
    "\n",
    "# Check if the password contains at least one lowercase letter\n",
    "    else:\n",
    "        has_lower = False\n",
    "        for char in user_password:\n",
    "            if char.islower():\n",
    "                has_lower = True\n",
    "                break\n",
    "        if not has_lower:\n",
    "            print(\"Password must contain at least one lowercase letter.\")\n",
    "\n",
    "# Check if the password contains at least one numeric digit\n",
    "        else:\n",
    "            has_digit = False\n",
    "            for char in user_password:\n",
    "                if char.isdigit():\n",
    "                    has_digit = True\n",
    "                    break\n",
    "            if not has_digit:\n",
    "                print(\"Password must contain at least one numeric digit.\")\n",
    "\n",
    "# If all checks pass, the password is valid\n",
    "            else:\n",
    "                print(\"Password is valid.\")"
   ]
  },
  {
   "cell_type": "code",
   "execution_count": null,
   "metadata": {},
   "outputs": [],
   "source": [
    "# Get user input for the password\n",
    "user_password = input(\"Enter a password to set up: \")\n",
    "\n",
    "# Initialize flags for validation\n",
    "has_upper = has_lower = has_digit = False\n",
    "\n",
    "# Iterate through the password to check requirements\n",
    "for char in user_password:\n",
    "    if char.isupper():\n",
    "        has_upper = True\n",
    "    elif char.islower():\n",
    "        has_lower = True\n",
    "    elif char.isdigit():\n",
    "        has_digit = True\n",
    "\n",
    "# Validate the password\n",
    "if len(user_password) < 8:\n",
    "    print(\"Password must be at least 8 characters long.\")\n",
    "elif not has_upper:\n",
    "    print(\"Password must contain at least one uppercase letter.\")\n",
    "elif not has_lower:\n",
    "    print(\"Password must contain at least one lowercase letter.\")\n",
    "elif not has_digit:\n",
    "    print(\"Password must contain at least one numeric digit.\")\n",
    "else:\n",
    "    print(\"Password is valid.\")"
   ]
  },
  {
   "cell_type": "code",
   "execution_count": null,
   "metadata": {},
   "outputs": [],
   "source": [
    "# Get user input for the password\n",
    "password = input(\"Enter a password: \")\n",
    "\n",
    "# Check if the password is at least 8 characters long\n",
    "if len(password) < 8:\n",
    "    print(\"Password must be at least 8 characters long.\")\n",
    "else:\n",
    "    # Check for at least one uppercase letter\n",
    "    has_upper = False\n",
    "    for char in password:\n",
    "        if 'A' <= char <= 'Z':\n",
    "            has_upper = True\n",
    "            break\n",
    "\n",
    "    if not has_upper:\n",
    "        print(\"Password must have at least one uppercase letter.\")\n",
    "    else:\n",
    "        # Check for at least one lowercase letter\n",
    "        has_lower = False\n",
    "        for char in password:\n",
    "            if 'a' <= char <= 'z':\n",
    "                has_lower = True\n",
    "                break\n",
    "\n",
    "        if not has_lower:\n",
    "            print(\"Password must have at least one lowercase letter.\")\n",
    "        else:\n",
    "            # Check for at least one digit\n",
    "            has_digit = False\n",
    "            for char in password:\n",
    "                if '0' <= char <= '9':\n",
    "                    has_digit = True\n",
    "                    break\n",
    "\n",
    "            if not has_digit:\n",
    "                print(\"Password must have at least one numeric digit.\")\n",
    "            else:\n",
    "                print(\"Password is valid.\")\n"
   ]
  }
 ],
 "metadata": {
  "kernelspec": {
   "display_name": "Python 3 (ipykernel)",
   "language": "python",
   "name": "python3"
  },
  "language_info": {
   "codemirror_mode": {
    "name": "ipython",
    "version": 3
   },
   "file_extension": ".py",
   "mimetype": "text/x-python",
   "name": "python",
   "nbconvert_exporter": "python",
   "pygments_lexer": "ipython3",
   "version": "3.9.18"
  }
 },
 "nbformat": 4,
 "nbformat_minor": 2
}
