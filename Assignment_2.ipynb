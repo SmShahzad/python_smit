{
 "cells": [
  {
   "cell_type": "markdown",
   "id": "3b257da1",
   "metadata": {},
   "source": [
    "## Questions:\n",
    "\n",
    "#### 1) Area of a Rectangle: \n",
    "Write a Python program to calculate the area of a rectangle. Use the formula: \n",
    "\n",
    "𝐴𝒓𝒆𝒂 = 𝒍𝒆𝒏𝒈𝒕𝒉 × 𝒘𝒊𝒅𝒕𝒉\n",
    "\n",
    "Take length and width as inputs from the user.\n"
   ]
  },
  {
   "cell_type": "code",
   "execution_count": null,
   "id": "f437ca4f",
   "metadata": {},
   "outputs": [],
   "source": [
    "# Given user input a length \n",
    "length = int(input('Enter the length : '))\n",
    "\n",
    "# Given user input a wdth\n",
    "width  = int(input('Enter the width : '))\n",
    "\n",
    "# Calculate the area of a rectangle \n",
    "area = length * width\n",
    "\n",
    "print(f\"User given input of length is {(length)} units and width is {(width)} units Calculate the area {(area)} units of a rectangle  \")\n"
   ]
  },
  {
   "cell_type": "markdown",
   "id": "4cdbc18c",
   "metadata": {},
   "source": [
    "#### 2) Circumference of a Circle: \n",
    "\n",
    "Write a Python program to calculate the circumference of a circle. Use the formula: \n",
    "\n",
    "𝑪𝒊𝒓𝒄𝒖𝒎𝒇𝒆𝒓𝒆𝒏𝒄𝒆 = 𝟐𝝅𝒓\n",
    "\n",
    "Take the radius r as input from the user."
   ]
  },
  {
   "cell_type": "code",
   "execution_count": null,
   "id": "a894a5f9",
   "metadata": {},
   "outputs": [],
   "source": [
    "# Given user input r: Radius of the circle.\n",
    "radius = int(input('Enter of the radius : '))\n",
    "\n",
    "\n",
    "# π: A constant approximately equal to 3.14159.\n",
    "_π = 3.14159 \n",
    "\n",
    "circum = 2\n",
    "\n",
    "# Simplify the Multiplication\n",
    "multi_circum_r = circum * radius\n",
    "circumference = str(multi_circum_r)+\"π\"\n",
    "\n",
    "print(f\"\\ncircumference = {circumference}\")\n",
    "\n",
    "# Use the approximation 𝜋 ≈ 3.14159\n",
    "# Approximate π and Calculate\n",
    "circumference = multi_circum_r * _π\n",
    "print(f\"circumference ≈ {circumference}\\n\")\n",
    "\n",
    "\n",
    "print(f\"The circumference of a circle with radius {(radius)} units is approximately {(circumference)} units.\")\n",
    "\n"
   ]
  },
  {
   "cell_type": "markdown",
   "id": "91be579d",
   "metadata": {},
   "source": [
    "#### 3) Simple Interest: \n",
    "Write a Python program to calculate the simple interest. Use the formula:\n",
    "\n",
    "𝑺𝒊𝒎𝒑𝒍𝒆 𝑰𝒏𝒕𝒆𝒓𝒆𝒔𝒕 = 𝑷𝒓𝒊𝒏𝒄𝒊𝒑𝒂𝒍 × 𝑹𝒂𝒕𝒆 × 𝑻𝒊𝒎𝒆 \n",
    "\n",
    "Take Principal, Rate, and Time as inputs from the user. "
   ]
  },
  {
   "cell_type": "code",
   "execution_count": null,
   "id": "0565fda1",
   "metadata": {},
   "outputs": [],
   "source": [
    "# This formula calculates the interest earned or owed based on \n",
    "# the initial amount, the rate, and the time.\n",
    "\n",
    "# Plug in the given values:\n",
    "principal = int(input(\"Enter the Principal initial amount: \"))\n",
    "\n",
    "# The annual interest rate is 5%. To use it in the formula, convert it to a decimal: 5% = 0.05.\n",
    "print('Example ... rate: (5% -> 0.05) , (13% -> 0.13) etc')\n",
    "rate = float(input(\"Enter the annual interest rate: \"))\n",
    "\n",
    "# Given the priode of time duration \n",
    "time = int(input(\"Enter the duration: \"))\n",
    "\n",
    "# calculate simple interest rate by 1 year\n",
    "simple_interest = principal * rate\n",
    "print(f\"\\nThis intermediate result {int(simple_interest)} represents the interest earned in 1 year.\")\n",
    "\n",
    "# Multiply by the time (simple interest rate × time)\n",
    "\n",
    "print(f\"Since the time period is {time} years, multiply the interest for one year {simple_interest} by {time}\")\n",
    "\n",
    "# The total simple interest for the given period is\n",
    "simple_interest = simple_interest * time\n",
    "print(f\"\\nYour final total simple interest for the given period is {simple_interest} \")\n",
    "\n",
    "# Summary of the Example:\n",
    "print(f\"\\nIf you deposit ${principal} at an annual interest rate of {rate} for {time} years, you will earn a total interest of ${simple_interest}.\")\n"
   ]
  },
  {
   "cell_type": "markdown",
   "id": "f748c9c2",
   "metadata": {},
   "source": [
    "#### 4) Speed of an Object: \n",
    "Write a Python program to calculate the speed of an object. Use the formula:\n",
    "\n",
    "𝑆𝒑𝒆𝒆𝒅 = 𝑫𝒊𝒔𝒕𝒂𝒏𝒄𝒆 / 𝑻𝒊𝒎𝒆\n",
    "\n",
    "Take Distance and Time as inputs from the user. \n"
   ]
  },
  {
   "cell_type": "code",
   "execution_count": null,
   "id": "094625f1",
   "metadata": {},
   "outputs": [],
   "source": [
    "# Given the user input distance and time \n",
    "distance = int(input(\"Enter the Distance meters (example -> 100 meters): \")) # 100 meters\n",
    "time = int(input(\"Enter the Time (seconds) : \")) # 20 seconds\n",
    "\n",
    "# This means speed is calculated by dividing the total distance traveled by the total time taken.\n",
    "# Plug in the given values into the formula:\n",
    "speed = distance // time\n",
    "\n",
    "# Perform the division:\n",
    "print(f\"Divide {distance} (meters) by {time} (seconds)\")\n",
    "\n",
    "# State the units:\n",
    "print(f\"Since the distance is measured in meters and the time in seconds, the speed is measured in meters per second {speed}(m/s).\")\n",
    "\n",
    "# Final Answer:\n",
    "print(f\"Speed = {speed}m/s\")  \n"
   ]
  },
  {
   "cell_type": "markdown",
   "id": "53079b45",
   "metadata": {},
   "source": [
    "#### 5) BMI Calculator: \n",
    "Write a Python program to calculate the Body Mass Index (BMI). Use the formula:\n",
    "\n",
    "BMI = Weight (in kilograms) / Height (in meters)**2\n",
    "\n",
    "Take Weight (in kilograms) and Height (in meters) as inputs from the user. \n"
   ]
  },
  {
   "cell_type": "code",
   "execution_count": 13,
   "id": "35c4c1fe",
   "metadata": {},
   "outputs": [],
   "source": [
    "# Given the user input a person weigth(kg) and height(meters)\n",
    "# Identify the given values\n",
    "weight = float(input('Enter the weight in kg: '))\n",
    "height = float(input('Enter the height in meters: '))\n",
    "\n",
    "# Calculate the square of the height\n",
    "square_height = height * height\n",
    "\n",
    "# This means you divide the weight of the person by the square of their height.\n",
    "# Divide the weight by the squared height\n",
    "bmi = weight / square_height\n",
    "\n",
    "print(f\"The BMI is approximately ≈ {bmi: 0f}  kg/m².\")\n"
   ]
  },
  {
   "cell_type": "markdown",
   "id": "25a0d7ba",
   "metadata": {},
   "source": [
    "#### 6) Force Using Newton's Second Law: \n",
    "Write a Python program to calculate the force on an object. Use the formula:\n",
    " \n",
    "Take m (mass in kilograms) and a (acceleration in meters/second²) as inputs from the \n",
    "user. \n"
   ]
  },
  {
   "cell_type": "code",
   "execution_count": null,
   "id": "af44005f",
   "metadata": {},
   "outputs": [],
   "source": [
    "# Enter the mass of the object (in kg): 10\n",
    "# Enter the acceleration (in m/s²): 5\n",
    "# The force acting on the object is 50.0 N.\n",
    "\n",
    "m = float(input(\"Enter the mass of the object (in kg): \"))\n",
    "a = float(input(\"Enter the acceleration (in m/s²): \"))\n",
    "\n",
    "F = m * a\n",
    "\n",
    "print(f\"The force on an object is {F} N.\")\n"
   ]
  },
  {
   "cell_type": "markdown",
   "id": "375c2181",
   "metadata": {},
   "source": [
    "#### 7) Compound Interest: \n",
    "Write a Python program to calculate compound interest. Use the formula: \n",
    "𝒓\n",
    "𝒏\n",
    "n-t\n",
    "Where: \n",
    "* A= total amount \n",
    "*  P = principal amount \n",
    "*  r = annual interest rate (decimal) \n",
    "*  n = number of times interest is compounded per year \n",
    "*  t = time in years \n",
    "*  Take P, r, n, and t as inputs from the user. \n"
   ]
  },
  {
   "cell_type": "code",
   "execution_count": null,
   "id": "acb008ca",
   "metadata": {},
   "outputs": [],
   "source": [
    "# Taking inputs from the user\n",
    "\n",
    "P = float(input(\"Enter the principal amount (P): \"))\n",
    "r = float(input(\"Enter the annual interest rate (percentage): \")) / 100\n",
    "n = int(input(\"Enter the number of times interest is per year (12) (n): \"))\n",
    "t = float(input(\"Enter the time in years (t): \"))\n",
    "\n",
    "A = P * (1 + r / n) ** (n * t)\n",
    "\n",
    "print(f\"The total amount after {t} years is: ${A:.2f}\")\n"
   ]
  },
  {
   "cell_type": "markdown",
   "id": "225daa51",
   "metadata": {},
   "source": [
    "#### 8) Perimeter of a Triangle: \n",
    "Write a Python program to calculate the perimeter of a triangle. Use the formula: \n",
    "\n",
    "* 𝑷𝒆𝒓𝒊𝒎𝒆𝒕𝒆𝒓 = 𝒂 + 𝒃 + 𝒄\n",
    "\n",
    "Take a, b, and c (lengths of the three sides) as inputs from the user.\n"
   ]
  },
  {
   "cell_type": "code",
   "execution_count": null,
   "id": "013f090f",
   "metadata": {},
   "outputs": [],
   "source": [
    "# Program to calculate the perimeter of a triangle\n",
    "\n",
    "# Taking inputs for the three sides\n",
    "a = float(input(\"Enter the length of side a: \"))\n",
    "b = float(input(\"Enter the length of side b: \"))\n",
    "c = float(input(\"Enter the length of side c: \"))\n",
    "\n",
    "perimeter = a + b + c\n",
    "\n",
    "print(f\"The perimeter of the triangle is: {perimeter}\")\n"
   ]
  },
  {
   "cell_type": "markdown",
   "id": "d540fb1f",
   "metadata": {},
   "source": [
    "#### 9) Volume of a Sphere: \n",
    "Write a Python program to calculate the volume of a sphere. Use the formula: \n",
    "ଷ\n",
    "\n",
    "Take r (radius) as input from the user. "
   ]
  },
  {
   "cell_type": "code",
   "execution_count": null,
   "id": "1a3e34ee",
   "metadata": {},
   "outputs": [],
   "source": [
    "import math\n",
    "r = float(input(\"Enter the radius of the sphere: \"))\n",
    "volume = (4 / 3) * math.pi * (r ** 3)\n",
    "\n",
    "print(f\"The volume of sphere with radius {r} is: {volume:.2f}\")"
   ]
  },
  {
   "cell_type": "code",
   "execution_count": null,
   "id": "6ede592c",
   "metadata": {},
   "outputs": [],
   "source": [
    "r = float(input(\"Enter the radius of the sphere: \"))\n",
    "pi = 3.14159\n",
    "volume = (4 / 3) * pi * (r ** 3)\n",
    "\n",
    "print(f\"The volume of sphere with radius {r} is: {volume:.2f}\")\n"
   ]
  },
  {
   "cell_type": "markdown",
   "id": "e933d062",
   "metadata": {},
   "source": [
    "#### 10) Kinetic Energy: \n",
    "\n",
    "Write a Python program to calculate the kinetic energy of an object. Use the formula: \n",
    "* 𝑲𝑬 =\n",
    "𝟏\n",
    "𝟐\n",
    "𝒎 𝑽\n",
    "𝟐\n",
    "\n",
    "Take m (mass in kilograms) and v (velocity in meters/second) as inputs from the user. \n"
   ]
  },
  {
   "cell_type": "code",
   "execution_count": null,
   "id": "caedda0c",
   "metadata": {},
   "outputs": [],
   "source": [
    "mass = float(input(\"Enter the mass of the object (in kg): \"))\n",
    "velocity = float(input(\"Enter the velocity of the object (in m/s): \"))\n",
    "\n",
    "    \n",
    "if mass < 0 or velocity < 0:\n",
    "    print(\"Mass and velocity must be non-negative values. Even science has limits!\")\n",
    "else:\n",
    "        \n",
    "    ke = 0.5 * mass * velocity ** 2\n",
    "    print(f\"The kinetic energy of the object is {ke:.2f} joules. That's enough energy to impress Einstein!\")\n",
    "\n"
   ]
  },
  {
   "cell_type": "markdown",
   "id": "0d4c0740",
   "metadata": {},
   "source": [
    "#### 11) Quadratic Equation Roots: \n",
    "Write a Python program to find the roots of a quadratic equation. Use the formula: \n",
    "\n",
    "Take a, b, and c as inputs from the user. "
   ]
  },
  {
   "cell_type": "code",
   "execution_count": null,
   "id": "200f30e4",
   "metadata": {},
   "outputs": [],
   "source": [
    "import math\n",
    "\n",
    "a = float(input(\"Enter coefficient a: \"))\n",
    "b = float(input(\"Enter coefficient b: \"))\n",
    "c = float(input(\"Enter coefficient c: \"))\n",
    "\n",
    "discriminant = b**2 - 4*a*c\n",
    "\n",
    "if discriminant > 0:\n",
    "    root1 = (-b + math.sqrt(discriminant)) / (2 * a)\n",
    "    root2 = (-b - math.sqrt(discriminant)) / (2 * a)\n",
    "    print(f\"The roots are real and different: {root1} and {root2}\")\n",
    "\n",
    "elif discriminant == 0:\n",
    "    root = -b / (2 * a)\n",
    "    print(f\"The roots are real and equal: {root}\")\n",
    "\n",
    "else:\n",
    "    real_part = -b / (2 * a)\n",
    "    imaginary_part = math.sqrt(abs(discriminant)) / (2 * a)\n",
    "    print(f\"The roots are complex and different: {real_part} ± {imaginary_part}i\")\n"
   ]
  },
  {
   "cell_type": "code",
   "execution_count": null,
   "id": "9a517c54",
   "metadata": {},
   "outputs": [],
   "source": [
    "a = float(input(\"Enter coefficient a: \"))\n",
    "b = float(input(\"Enter coefficient b: \"))\n",
    "c = float(input(\"Enter coefficient c: \"))\n",
    "\n",
    "discriminant = b * b - 4 * a * c\n",
    "\n",
    "def sqrt(n):\n",
    "    x = n\n",
    "    y = 0.0001  # Precision level\n",
    "    while (x - n / x) > y:\n",
    "        x = (x + n / x) / 2\n",
    "    return x\n",
    "\n",
    "if discriminant > 0:\n",
    "    root1 = (-b + sqrt(discriminant)) / (2 * a)\n",
    "    root2 = (-b - sqrt(discriminant)) / (2 * a)\n",
    "    print(f\"The roots are real and different: {root1} and {root2}\")\n",
    "\n",
    "elif discriminant == 0:\n",
    "    root = -b / (2 * a)\n",
    "    print(f\"The roots are real and equal: {root}\")\n",
    "\n",
    "else:\n",
    "    real_part = -b / (2 * a)\n",
    "    imaginary_part = sqrt(-discriminant) / (2 * a)\n",
    "    print(f\"The roots are complex and different: {real_part} ± {imaginary_part}i\")\n"
   ]
  },
  {
   "cell_type": "markdown",
   "id": "bb855e23",
   "metadata": {},
   "source": [
    "#### 12) Temperature Conversion: \n",
    "Write a Python program to convert a temperature from Celsius to Fahrenheit. Use the \n",
    "formula: \n",
    "\n",
    "Take C (temperature in Celsius) as input from the user. "
   ]
  },
  {
   "cell_type": "code",
   "execution_count": null,
   "id": "f890d916",
   "metadata": {},
   "outputs": [],
   "source": [
    "celsius = float(input(\"Enter temperature in Celsius: \"))\n",
    "\n",
    "fahrenheit = (celsius * 9/5) + 32\n",
    "print(f\"{celsius}°C is equal to {fahrenheit:.2f}°F\")"
   ]
  },
  {
   "cell_type": "markdown",
   "id": "54d559ad",
   "metadata": {},
   "source": [
    "13) Gravitational Force: \n",
    "Write a Python program to calculate the gravitational force between two objects. Use \n",
    "the formula \n",
    "* 𝑭 = 𝑮\n",
    "𝒎𝟏 ∗ 𝒎𝟐\n",
    "𝒓\n",
    "𝟐\n",
    "\n",
    "* m1, m2 are the masses of the objects \n",
    "* r = distance between the centers of the objects \n",
    "* Take m1, m2 and r as inputs from the user."
   ]
  },
  {
   "cell_type": "code",
   "execution_count": null,
   "id": "947fe195",
   "metadata": {},
   "outputs": [],
   "source": [
    "try:\n",
    "    G = 6.67430e-11 \n",
    "    \n",
    "    m1 = float(input(\"Enter the mass of the first object (in kg): \"))\n",
    "    m2 = float(input(\"Enter the mass of the second object (in kg): \"))\n",
    "    r = float(input(\"Enter the distance between the objects (in meters): \"))\n",
    "\n",
    "    if m1 <= 0 or m2 <= 0 or r <= 0:\n",
    "        print(\"Masses and distance must be positive values!\")\n",
    "    \n",
    "    else:\n",
    "        force = G * (m1 * m2) / (r ** 2)\n",
    "        print(f\"The gravitational force between the objects is {force:.6e} N\")\n",
    "\n",
    "except ValueError:\n",
    "    print(\"Invalid input! Please enter numeric values for masses and distance.\")\n"
   ]
  },
  {
   "cell_type": "markdown",
   "id": "e2792739",
   "metadata": {},
   "source": [
    "#### 14) Volume of a Cylinder:\n",
    "Write a Python program to calculate the volume of a cylinder. Use the formula: \n",
    "* 𝑽𝒐𝒍𝒖𝒎𝒆 = 𝝅𝒓𝟐𝒉\n",
    "    \n",
    "Take radius(r) and height(h) as inputs from the user"
   ]
  },
  {
   "cell_type": "code",
   "execution_count": null,
   "id": "ece1f237",
   "metadata": {},
   "outputs": [],
   "source": [
    "import math\n",
    "\n",
    "radius = float(input(\"Enter the radius of the cylinder (in units): \"))\n",
    "height = float(input(\"Enter the height of the cylinder (in units): \"))\n",
    "\n",
    "volume = math.pi * (radius ** 2) * height\n",
    "\n",
    "print(f\"The volume of the cylinder is: {volume:.2f} cubic units\")\n"
   ]
  },
  {
   "cell_type": "markdown",
   "id": "7bed82a5",
   "metadata": {},
   "source": [
    "#### 15) Pressure:\n",
    "Write a Python program to calculate the pressure exerted by a force on a surface. Use \n",
    "the formula: \n",
    "* 𝑷 = \n",
    "𝑭\n",
    "𝑨\n",
    "* P = pressure \n",
    "* F = force \n",
    "* A = area \n",
    "\n",
    "Take F(force) and A(area) as inputs from the user. \n"
   ]
  },
  {
   "cell_type": "code",
   "execution_count": null,
   "id": "0f33e1e5",
   "metadata": {},
   "outputs": [],
   "source": [
    "force = float(input(\"Enter the force (in Newtons): \"))\n",
    "area = float(input(\"Enter the area (in square meters): \"))\n",
    "\n",
    "if area == 0:\n",
    "    print(\"Area cannot be zero. Please enter a valid value.\")\n",
    "\n",
    "\n",
    "else:\n",
    "    pressure = force / area\n",
    "    print(f\"The pressure exerted is {pressure:.2f} Pascals.\")\n"
   ]
  },
  {
   "cell_type": "markdown",
   "id": "25aed90b",
   "metadata": {},
   "source": [
    "#### 16) Electric Power:\n",
    "Write a Python program to calculate the electric power consumed. Use the formula: \n",
    "where: \n",
    "* P = power \n",
    "* V = voltage \n",
    "* I = current \n",
    "\n",
    "Take V(voltage) and I(current) as inputs from the user"
   ]
  },
  {
   "cell_type": "code",
   "execution_count": null,
   "id": "31e7ab11",
   "metadata": {},
   "outputs": [],
   "source": [
    "V = float(input(\"Enter Voltage (V) in volts: \"))\n",
    "I = float(input(\"Enter Current (I) in amperes: \"))\n",
    "\n",
    "P = V * I\n",
    "print(f\"Electric Power (P) = {P} watts\")\n"
   ]
  },
  {
   "cell_type": "markdown",
   "id": "6dbddc40",
   "metadata": {},
   "source": [
    "#### 17) Perimeter of a Circle (Circumference): \n",
    "Write a Python program to calculate the perimeter (circumference) of a circle. Use the \n",
    "formula: \n",
    "\n",
    "Take r (radius) as input from the user."
   ]
  },
  {
   "cell_type": "code",
   "execution_count": null,
   "id": "d4605b6a",
   "metadata": {},
   "outputs": [],
   "source": [
    "import math\n",
    "\n",
    "radius = float(input(\"Enter the radius of the circle: \"))\n",
    "\n",
    "circumference = 2 * math.pi * radius\n",
    "\n",
    "print(f\"The circumference of the circle is: {circumference:.2f}\")\n"
   ]
  },
  {
   "cell_type": "markdown",
   "id": "1eb8dedf",
   "metadata": {},
   "source": [
    "#### 18) Future Value in Savings:\n",
    "Write a Python program to calculate the future value of an investment. Use the formula: \n",
    "* 𝐹𝑉 = 𝑃𝑉(1 + 𝑟)\n",
    "௧\n",
    "where: \n",
    "* o FV= future value \n",
    "* o PV= present value \n",
    "* o r= annual interest rate (as a decimal) \n",
    "* o t= time in years \n",
    "\n",
    "Take PV, r, and t as inputs from the user"
   ]
  },
  {
   "cell_type": "code",
   "execution_count": null,
   "id": "a2a84a60",
   "metadata": {},
   "outputs": [],
   "source": [
    "# Enter the present value (PV): 1000\n",
    "# Enter the annual interest rate (as a decimal): 0.05\n",
    "# Enter the time in years (t): 10\n",
    "# The future value of the investment is: $1628.89\n",
    "\n",
    "\n",
    "PV = float(input(\"Enter the present value (PV): \"))\n",
    "r = float(input(\"Enter the annual interest rate (as a decimal): \"))\n",
    "t = float(input(\"Enter the time in years (t): \"))\n",
    "\n",
    "FV = PV * ((1 + r) ** t)\n",
    "\n",
    "print(f\"The future value of the investment is: ${FV:.2f}\")\n"
   ]
  },
  {
   "cell_type": "markdown",
   "id": "bf77a1a3",
   "metadata": {},
   "source": [
    "#### 19) Work Done by a Force:\n",
    "Write a Python program to calculate the work done by a force. Use the formula: \n",
    "where: \n",
    "* W = work done \n",
    "* f= force \n",
    "* d = distance \n",
    "* theta = angle between force and direction of movement (in degrees) \n",
    "\n",
    "Take f, d, and θ as inputs from the user"
   ]
  },
  {
   "cell_type": "code",
   "execution_count": null,
   "id": "d940f845",
   "metadata": {},
   "outputs": [],
   "source": [
    "import math\n",
    "\n",
    "def calculate_work_done(force, distance, angle):\n",
    "    \n",
    "    angle_radians = math.radians(angle)\n",
    "    work_done = force * distance * math.cos(angle_radians)\n",
    "    \n",
    "    return work_done\n",
    "\n",
    "try:\n",
    "    force = float(input(\"Enter the force (in Newtons): \"))\n",
    "    distance = float(input(\"Enter the distance (in meters): \"))\n",
    "    angle = float(input(\"Enter the angle (in degrees): \"))\n",
    "\n",
    "    work = calculate_work_done(force, distance, angle)\n",
    "\n",
    "    print(f\"Work done by the force is: {work:.2f} Joules\")\n",
    "\n",
    "except ValueError:\n",
    "    print(\"Invalid input! Please enter numeric values.\")\n"
   ]
  },
  {
   "cell_type": "markdown",
   "id": "f2b01956",
   "metadata": {},
   "source": [
    "#### 20) Heat Transfer:\n",
    "Write a Python program to calculate the amount of heat transferred. Use the formula: \n",
    "* 𝑄 = 𝑚𝑐 (∆T)\n",
    "where: \n",
    "* Q= heat transfer \n",
    "* m = mass \n",
    "* c = specific heat capacity \n",
    "* ΔT \n",
    "\n",
    "Take m, c, T as inputs from the user."
   ]
  },
  {
   "cell_type": "code",
   "execution_count": null,
   "id": "afe15603",
   "metadata": {},
   "outputs": [],
   "source": [
    "# Program to calculate heat transfer (Q) using Q = m * c * (Delta T)\n",
    "\n",
    "m = float(input(\"Enter the mass (kg): \"))       # Mass in kilograms\n",
    "c = float(input(\"Enter specific heat capacity (J/kg°C): \"))  # Specific heat capacity in J/kg°C\n",
    "T1 = float(input(\"Enter the initial temperature (°C): \"))  # Initial temperature\n",
    "T2 = float(input(\"Enter the final temperature (°C): \"))    # Final temperature\n",
    "\n",
    "# Calculating temperature change (ΔT)\n",
    "delta_T = T2 - T1\n",
    "\n",
    "# Calculating heat transfer (Q)\n",
    "Q = m * c * delta_T\n",
    "\n",
    "print(f\"The heat transfer (Q) is: {Q:.2f} Joules\")\n"
   ]
  }
 ],
 "metadata": {
  "kernelspec": {
   "display_name": "Python 3 (ipykernel)",
   "language": "python",
   "name": "python3"
  },
  "language_info": {
   "codemirror_mode": {
    "name": "ipython",
    "version": 3
   },
   "file_extension": ".py",
   "mimetype": "text/x-python",
   "name": "python",
   "nbconvert_exporter": "python",
   "pygments_lexer": "ipython3",
   "version": "3.9.18"
  }
 },
 "nbformat": 4,
 "nbformat_minor": 5
}
